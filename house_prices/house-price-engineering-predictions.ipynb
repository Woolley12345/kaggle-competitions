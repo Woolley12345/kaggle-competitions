{
 "cells": [
  {
   "cell_type": "markdown",
   "execution_count": null,
   "metadata": {
    "papermill": {
     "duration": 0.016972,
     "end_time": "2020-08-30T08:28:16.046929",
     "exception": false,
     "start_time": "2020-08-30T08:28:16.029957",
     "status": "completed"
    },
    "tags": []
   },
   "source": [
    "# House Price Competition - Predicting Prices\n",
    "\n",
    "This notebook is designed to predict prices for the House Price Competition. If you use this notebook or find it helpful, **please give it an upvote!**\n",
    "\n",
    "I have created a step-by-step data exploration notebook for this competition [here](https://www.kaggle.com/thomaswoolley/house-price-data-exploration). If you have not read that one, I would strongly recommend doing so before working through this notebook.\n",
    "\n",
    "If you like my work my other, notebooks on various topics can be found on Kaggle [here](https://www.kaggle.com/thomaswoolley/notebooks) and GitHub [here](https://github.com/Woolley12345/kaggle-competitions).\n",
    "\n",
    "\n",
    "### Competition Overview\n",
    "\n",
    "The aim of this competition is to predict the sales price of various houses given a number of features. This makes this a regression problem (predicting a continuous variable e.g. price) rather than a classification problem (predicting distinct classes/groups e.g. survived or not). In order to approach this competition, it was essential to first understand the data that we are working with. This notebook builds on that understanding and uses it to make predictions about the final house prices.\n",
    "\n",
    "### Notebook Structure\n",
    "This notebook is structured as follows:\n",
    "\n",
    "1. Load Modules and Data\n",
    "2. Data Cleaning\n",
    "3. Feature Engineering\n",
    "4. Fitting Models to the Data\n",
    "5. Generating Submission Files\n",
    "\n",
    "\n",
    "\n",
    "# 1. Load Modules and Data\n",
    "\n",
    "As the first step, we have to load in the data that we want to use. It is also important to load in some modules. Modules help us to do additional things with Python such as plotting, mathematics and data processing. Some commonly used modules are imported below to help us explore the data we have been given. For more information on the modules that are used here, check out the documentation at the following links:\n",
    "\n",
    "* [Numpy](https://numpy.org)\n",
    "* [Pandas](https://pandas.pydata.org)\n",
    "* [MatplotLib](https://matplotlib.org)\n",
    "* [Seaborn](https://seaborn.pydata.org)"
   ]
  },
  {
   "cell_type": "code",
   "execution_count": 1,
   "metadata": {
    "_cell_guid": "b1076dfc-b9ad-4769-8c92-a6c4dae69d19",
    "_uuid": "8f2839f25d086af736a60e9eeb907d3b93b6e0e5",
    "papermill": {
     "duration": 0.971162,
     "end_time": "2020-08-30T08:28:17.035480",
     "exception": false,
     "start_time": "2020-08-30T08:28:16.064318",
     "status": "completed"
    },
    "tags": []
   },
   "outputs": [
    {
     "name": "stdout",
     "output_type": "stream",
     "text": [
      "/kaggle/input/house-prices-advanced-regression-techniques/train.csv\n",
      "/kaggle/input/house-prices-advanced-regression-techniques/test.csv\n",
      "/kaggle/input/house-prices-advanced-regression-techniques/sample_submission.csv\n",
      "/kaggle/input/house-prices-advanced-regression-techniques/data_description.txt\n"
     ]
    }
   ],
   "source": [
    "# This Python 3 environment comes with many helpful analytics libraries installed\n",
    "# It is defined by the kaggle/python docker image: https://github.com/kaggle/docker-python\n",
    "# For example, here's several helpful packages to load in \n",
    "\n",
    "import numpy as np # linear algebra\n",
    "import pandas as pd # data processing\n",
    "import matplotlib.pyplot as plt #plottting\n",
    "import seaborn as sns # more plotting\n",
    "\n",
    "# Input data files are available in the \"../input/\" directory.\n",
    "# For example, running this (by clicking run or pressing Shift+Enter) will list all files under the input directory\n",
    "import os\n",
    "for dirname, _, filenames in os.walk('/kaggle/input'):\n",
    "    for filename in filenames:\n",
    "        print(os.path.join(dirname, filename))"
   ]
  },
  {
   "cell_type": "markdown",
   "execution_count": null,
   "metadata": {
    "papermill": {
     "duration": 0.016122,
     "end_time": "2020-08-30T08:28:17.068526",
     "exception": false,
     "start_time": "2020-08-30T08:28:17.052404",
     "status": "completed"
    },
    "tags": []
   },
   "source": [
    "The output of the above cell provides us with the paths to the data files that we wish to import. They are saved as *.csv* files and so all we have to do is use the *read_csv* option in the *Pandas* module. The following code saves the data as a *Pandas Dataframe* (you can imagine it like a table of data) with the variable name *all_data*. \n",
    "\n",
    "We choose to combine the training and test data here so that we only have to write the feature engineering code once. However, we will track the test data (as we can fill the SalePrice features with NaN values in the Dataframe), and separate it before fitting our models."
   ]
  },
  {
   "cell_type": "code",
   "execution_count": 2,
   "metadata": {
    "papermill": {
     "duration": 0.140039,
     "end_time": "2020-08-30T08:28:17.224406",
     "exception": false,
     "start_time": "2020-08-30T08:28:17.084367",
     "status": "completed"
    },
    "tags": []
   },
   "outputs": [
    {
     "name": "stdout",
     "output_type": "stream",
     "text": [
      "Rows in train data = 1460\n",
      "Rows in test data = 1459\n"
     ]
    }
   ],
   "source": [
    "# Load in both the training and test data \n",
    "train_data = pd.read_csv(\"/kaggle/input/house-prices-advanced-regression-techniques/train.csv\")\n",
    "test_data = pd.read_csv(\"/kaggle/input/house-prices-advanced-regression-techniques/test.csv\")\n",
    "\n",
    "# Add the missing column to the test data but just fill it with NaNs so we can separate it later\n",
    "test_data['SalePrice'] = np.nan\n",
    "\n",
    "# Combine the two dataframes\n",
    "all_data = pd.concat([train_data, test_data])\n",
    "\n",
    "# Check the lengths are as expected\n",
    "print(\"Rows in train data = {}\".format(len(train_data)))\n",
    "print(\"Rows in test data = {}\".format(len(test_data)))"
   ]
  },
  {
   "cell_type": "markdown",
   "execution_count": null,
   "metadata": {
    "papermill": {
     "duration": 0.015419,
     "end_time": "2020-08-30T08:28:17.255839",
     "exception": false,
     "start_time": "2020-08-30T08:28:17.240420",
     "status": "completed"
    },
    "tags": []
   },
   "source": [
    "# 2. Data Cleaning\n",
    "\n",
    "Let's start by removing columns that have a lot of missing data and therefore would be very difficult to fill. This just keeps the dataframe smaller and easier to handle."
   ]
  },
  {
   "cell_type": "code",
   "execution_count": 3,
   "metadata": {
    "papermill": {
     "duration": 0.05249,
     "end_time": "2020-08-30T08:28:17.324241",
     "exception": false,
     "start_time": "2020-08-30T08:28:17.271751",
     "status": "completed"
    },
    "tags": []
   },
   "outputs": [
    {
     "name": "stdout",
     "output_type": "stream",
     "text": [
      "NaNs in each training Feature\n",
      "              nulls\n",
      "MSZoning          4\n",
      "LotFrontage     486\n",
      "Alley          2721\n",
      "Utilities         2\n",
      "Exterior1st       1\n",
      "Exterior2nd       1\n",
      "MasVnrType       24\n",
      "MasVnrArea       23\n",
      "BsmtQual         81\n",
      "BsmtCond         82\n",
      "BsmtExposure     82\n",
      "BsmtFinType1     79\n",
      "BsmtFinSF1        1\n",
      "BsmtFinType2     80\n",
      "BsmtFinSF2        1\n",
      "BsmtUnfSF         1\n",
      "TotalBsmtSF       1\n",
      "Electrical        1\n",
      "BsmtFullBath      2\n",
      "BsmtHalfBath      2\n",
      "KitchenQual       1\n",
      "Functional        2\n",
      "FireplaceQu    1420\n",
      "GarageType      157\n",
      "GarageYrBlt     159\n",
      "GarageFinish    159\n",
      "GarageCars        1\n",
      "GarageArea        1\n",
      "GarageQual      159\n",
      "GarageCond      159\n",
      "PoolQC         2909\n",
      "Fence          2348\n",
      "MiscFeature    2814\n",
      "SaleType          1\n",
      "SalePrice      1459\n"
     ]
    }
   ],
   "source": [
    "# Check for NaNs in the data\n",
    "print(\"NaNs in each training Feature\")\n",
    "dfNull = all_data.isnull().sum().to_frame('nulls')\n",
    "print(dfNull.loc[dfNull['nulls'] > 0]) # Print only features that have Null values"
   ]
  },
  {
   "cell_type": "code",
   "execution_count": 4,
   "metadata": {
    "papermill": {
     "duration": 0.031112,
     "end_time": "2020-08-30T08:28:17.371104",
     "exception": false,
     "start_time": "2020-08-30T08:28:17.339992",
     "status": "completed"
    },
    "tags": []
   },
   "outputs": [],
   "source": [
    "# Drop the features with lots of NaNs\n",
    "all_data.drop(columns=['Alley', 'FireplaceQu', 'PoolQC', 'Fence', 'MiscFeature'], inplace=True)"
   ]
  },
  {
   "cell_type": "markdown",
   "execution_count": null,
   "metadata": {
    "papermill": {
     "duration": 0.015375,
     "end_time": "2020-08-30T08:28:17.402895",
     "exception": false,
     "start_time": "2020-08-30T08:28:17.387520",
     "status": "completed"
    },
    "tags": []
   },
   "source": [
    "# 3. Feature Engineering\n",
    "\n",
    "Let's fill some of the missing values and make the data ready for models."
   ]
  },
  {
   "cell_type": "markdown",
   "execution_count": null,
   "metadata": {
    "papermill": {
     "duration": 0.015289,
     "end_time": "2020-08-30T08:28:17.434342",
     "exception": false,
     "start_time": "2020-08-30T08:28:17.419053",
     "status": "completed"
    },
    "tags": []
   },
   "source": [
    "## 3.1. Converting Quality and Condition to Numerical Fields\n",
    "There are some features which have quality and condition measured as a number and others with them measured with text-based categories. Here we should convert them all to numbers to make it more consistent. The features that we remap in this section are:\n",
    "1. KitchenQual\n",
    "2. BsmtQual\n",
    "3. BsmtCond\n",
    "4. GarageQual\n",
    "5. GarageCond"
   ]
  },
  {
   "cell_type": "code",
   "execution_count": 5,
   "metadata": {
    "papermill": {
     "duration": 0.052887,
     "end_time": "2020-08-30T08:28:17.503020",
     "exception": false,
     "start_time": "2020-08-30T08:28:17.450133",
     "status": "completed"
    },
    "tags": []
   },
   "outputs": [],
   "source": [
    "# Create mapping which works for Kitchen, Garage and Basement\n",
    "mapping = {'Ex': 5.0, 'Gd': 4.0, 'TA': 3.0, 'Fa': 2.0, 'Po': 1.0}\n",
    "\n",
    "# Remap values\n",
    "all_data.replace({'KitchenQual': mapping}, inplace=True)\n",
    "all_data.replace({'BsmtQual': mapping}, inplace=True)\n",
    "all_data.replace({'BsmtCond': mapping}, inplace=True)\n",
    "all_data.replace({'GarageQual': mapping}, inplace=True)\n",
    "all_data.replace({'GarageCond': mapping}, inplace=True)"
   ]
  },
  {
   "cell_type": "markdown",
   "execution_count": null,
   "metadata": {
    "papermill": {
     "duration": 0.015221,
     "end_time": "2020-08-30T08:28:17.534040",
     "exception": false,
     "start_time": "2020-08-30T08:28:17.518819",
     "status": "completed"
    },
    "tags": []
   },
   "source": [
    "## 3.2. Filling Missing Values\n",
    "\n",
    "In this section we fill the missing values. Most of the missing values are filled using the most common value for brevity however, we could test out other ways of filling missing values to improve the models. This has been left for future notebooks.\n",
    "\n",
    "### 3.2.1. MSZoning, Utilities and Electrical (4, 2 and 1 missing values respectively)\n",
    "Let's start with these features and check their distributions.\n"
   ]
  },
  {
   "cell_type": "code",
   "execution_count": 6,
   "metadata": {
    "papermill": {
     "duration": 0.658408,
     "end_time": "2020-08-30T08:28:18.208175",
     "exception": false,
     "start_time": "2020-08-30T08:28:17.549767",
     "status": "completed"
    },
    "tags": []
   },
   "outputs": [
    {
     "data": {
      "image/png": "[encoded data removed]",
      "text/plain": [
       "<Figure size 576x1152 with 4 Axes>"
      ]
     },
     "metadata": {
      "needs_background": "light"
     },
     "output_type": "display_data"
    }
   ],
   "source": [
    "# Plot the distributions\n",
    "keys = ['MSZoning', 'Utilities', 'Electrical', 'Functional']\n",
    "fig, axs = plt.subplots(4,1, figsize=(8,16))\n",
    "axs = axs.flatten()\n",
    "for i in range(len(keys)):\n",
    "    all_data[keys[i]].value_counts().plot(kind='bar', rot=20.0, fontsize=16, color='darkblue', \n",
    "                                          title=keys[i], ax=axs[i])\n",
    "fig.subplots_adjust(hspace=0.5)\n",
    "plt.show()"
   ]
  },
  {
   "cell_type": "markdown",
   "execution_count": null,
   "metadata": {
    "papermill": {
     "duration": 0.016692,
     "end_time": "2020-08-30T08:28:18.241713",
     "exception": false,
     "start_time": "2020-08-30T08:28:18.225021",
     "status": "completed"
    },
    "tags": []
   },
   "source": [
    "The over whelming majority of data for the MSZoning feature takes a value of \"RL\" so let's fill the missing data with this value. As we only have 4 data points to fill this is probably sufficient for this feature but we could always come back and do a more technical filling of the data based on correlations.\n",
    "\n",
    "As the Utilities feature almost always takes the value \"AllPub\" we can drop this feature rather than filling in the missing values. This is because if all the data takes the same value of a feature, that feature does not provide any informaion for the model.\n",
    "\n",
    "As we only have one missing Electrical value we can fill it with the most common value (\"SBrkr\").\n",
    "\n",
    "The Functional feature takes the value \"Typ\" the majority of the time so let's fill the missing values with this."
   ]
  },
  {
   "cell_type": "code",
   "execution_count": 7,
   "metadata": {
    "papermill": {
     "duration": 0.033959,
     "end_time": "2020-08-30T08:28:18.292130",
     "exception": false,
     "start_time": "2020-08-30T08:28:18.258171",
     "status": "completed"
    },
    "tags": []
   },
   "outputs": [],
   "source": [
    "# MSZoning: Fill the NaNs with RL\n",
    "all_data['MSZoning'].fillna('RL', inplace=True)\n",
    "\n",
    "# Utilities: Drop the feature\n",
    "all_data.drop(columns=['Utilities'], inplace=True)\n",
    "\n",
    "# Electrical: Fill the NaNs with SBrkr\n",
    "all_data['Electrical'].fillna('SBrkr', inplace=True)\n",
    "\n",
    "# Functional: Fill the NaNs with Typ\n",
    "all_data['Functional'].fillna('Typ', inplace=True)"
   ]
  },
  {
   "cell_type": "markdown",
   "execution_count": null,
   "metadata": {
    "papermill": {
     "duration": 0.016246,
     "end_time": "2020-08-30T08:28:18.325020",
     "exception": false,
     "start_time": "2020-08-30T08:28:18.308774",
     "status": "completed"
    },
    "tags": []
   },
   "source": [
    "### 3.2.2. Exterior1st and Exterior2nd (1 missing value each)"
   ]
  },
  {
   "cell_type": "code",
   "execution_count": 8,
   "metadata": {
    "papermill": {
     "duration": 0.479995,
     "end_time": "2020-08-30T08:28:18.822194",
     "exception": false,
     "start_time": "2020-08-30T08:28:18.342199",
     "status": "completed"
    },
    "tags": []
   },
   "outputs": [
    {
     "data": {
      "image/png": "[encoded data removed]",
      "text/plain": [
       "<Figure size 432x288 with 1 Axes>"
      ]
     },
     "metadata": {
      "needs_background": "light"
     },
     "output_type": "display_data"
    },
    {
     "data": {
      "image/png": "[encoded data removed]",
      "text/plain": [
       "<Figure size 432x288 with 1 Axes>"
      ]
     },
     "metadata": {
      "needs_background": "light"
     },
     "output_type": "display_data"
    }
   ],
   "source": [
    "# Plot the distributions\n",
    "all_data['Exterior1st'].value_counts().plot(kind='bar', rot=90.0, fontsize=16, color='darkblue', title='Exterior1st')\n",
    "plt.show()\n",
    "\n",
    "all_data['Exterior2nd'].value_counts().plot(kind='bar', rot=90.0, fontsize=16, color='darkblue', title='Exterior2nd')\n",
    "plt.show()"
   ]
  },
  {
   "cell_type": "code",
   "execution_count": 9,
   "metadata": {
    "papermill": {
     "duration": 0.029994,
     "end_time": "2020-08-30T08:28:18.869536",
     "exception": false,
     "start_time": "2020-08-30T08:28:18.839542",
     "status": "completed"
    },
    "tags": []
   },
   "outputs": [
    {
     "name": "stdout",
     "output_type": "stream",
     "text": [
      "[nan]\n"
     ]
    }
   ],
   "source": [
    "# Check if both exteriors are missing for the same property\n",
    "print(all_data['Exterior2nd'].values[all_data['Exterior1st'].isnull() == True])"
   ]
  },
  {
   "cell_type": "markdown",
   "execution_count": null,
   "metadata": {
    "papermill": {
     "duration": 0.016684,
     "end_time": "2020-08-30T08:28:18.904841",
     "exception": false,
     "start_time": "2020-08-30T08:28:18.888157",
     "status": "completed"
    },
    "tags": []
   },
   "source": [
    "Okay so this tells us that the Exterior features are missing for the same property. This is also one of the properties that we are trying to predict the SalePrice of so we cannot remove it. Let's just fill it with the most common Exterior value for now."
   ]
  },
  {
   "cell_type": "code",
   "execution_count": 10,
   "metadata": {
    "papermill": {
     "duration": 0.02878,
     "end_time": "2020-08-30T08:28:18.950674",
     "exception": false,
     "start_time": "2020-08-30T08:28:18.921894",
     "status": "completed"
    },
    "tags": []
   },
   "outputs": [],
   "source": [
    "# Fill the NaNs with VinylSd\n",
    "all_data['Exterior1st'].fillna('VinylSd', inplace=True)\n",
    "all_data['Exterior2nd'].fillna('VinylSd', inplace=True)"
   ]
  },
  {
   "cell_type": "markdown",
   "execution_count": null,
   "metadata": {
    "papermill": {
     "duration": 0.016874,
     "end_time": "2020-08-30T08:28:18.985183",
     "exception": false,
     "start_time": "2020-08-30T08:28:18.968309",
     "status": "completed"
    },
    "tags": []
   },
   "source": [
    "### 3.2.3. MasVnrType and MasVnrArea (24 and 23 missing values respectively)"
   ]
  },
  {
   "cell_type": "code",
   "execution_count": 11,
   "metadata": {
    "papermill": {
     "duration": 0.203133,
     "end_time": "2020-08-30T08:28:19.205527",
     "exception": false,
     "start_time": "2020-08-30T08:28:19.002394",
     "status": "completed"
    },
    "tags": []
   },
   "outputs": [
    {
     "data": {
      "image/png": "[encoded data removed]",
      "text/plain": [
       "<Figure size 432x288 with 1 Axes>"
      ]
     },
     "metadata": {
      "needs_background": "light"
     },
     "output_type": "display_data"
    }
   ],
   "source": [
    "# Plot the distribution\n",
    "all_data['MasVnrType'].value_counts().plot(kind='bar', rot=90.0, fontsize=16, color='darkblue', title='MasVnrType')\n",
    "plt.show()"
   ]
  },
  {
   "cell_type": "markdown",
   "execution_count": null,
   "metadata": {
    "papermill": {
     "duration": 0.016732,
     "end_time": "2020-08-30T08:28:19.240462",
     "exception": false,
     "start_time": "2020-08-30T08:28:19.223730",
     "status": "completed"
    },
    "tags": []
   },
   "source": [
    "Fill with the most common result which is None. This also means the MasVnrArea feature will be zero for these if it takes a NaN value. Let's check what values of the MasVnrArea feature are available when we have NaNs for the MasVnrType feature."
   ]
  },
  {
   "cell_type": "code",
   "execution_count": 12,
   "metadata": {
    "papermill": {
     "duration": 0.030111,
     "end_time": "2020-08-30T08:28:19.287741",
     "exception": false,
     "start_time": "2020-08-30T08:28:19.257630",
     "status": "completed"
    },
    "tags": []
   },
   "outputs": [
    {
     "name": "stdout",
     "output_type": "stream",
     "text": [
      "[ nan  nan  nan  nan  nan  nan  nan  nan  nan  nan  nan  nan  nan  nan\n",
      "  nan  nan  nan  nan  nan  nan 198.  nan  nan  nan]\n"
     ]
    }
   ],
   "source": [
    "# Find the vales of MasVnrArea when MasVnrType is Nan\n",
    "print(all_data['MasVnrArea'].values[all_data['MasVnrType'].isnull() == True])"
   ]
  },
  {
   "cell_type": "markdown",
   "execution_count": null,
   "metadata": {
    "papermill": {
     "duration": 0.016932,
     "end_time": "2020-08-30T08:28:19.322067",
     "exception": false,
     "start_time": "2020-08-30T08:28:19.305135",
     "status": "completed"
    },
    "tags": []
   },
   "source": [
    "We can see that most of the MasVnrArea values are NaN too, but there is one that is not. Let's fill the MasVnrArea=198 case with the most common MasVnrType (which is BrkFace) and fill the rest with MasVnrArea=0.0 and MasVnrType=None."
   ]
  },
  {
   "cell_type": "code",
   "execution_count": 13,
   "metadata": {
    "papermill": {
     "duration": 0.035444,
     "end_time": "2020-08-30T08:28:19.374806",
     "exception": false,
     "start_time": "2020-08-30T08:28:19.339362",
     "status": "completed"
    },
    "tags": []
   },
   "outputs": [
    {
     "name": "stdout",
     "output_type": "stream",
     "text": [
      "[2610]\n"
     ]
    }
   ],
   "source": [
    "# Find the indices that correspond to the NaNs in MasVnrType but values in MasVnrArea (i.e. the MasVnrArea=198 index)\n",
    "indices = (np.argwhere((all_data['MasVnrType'].isnull().values) & (all_data['MasVnrArea'].isnull().values == False))).flatten()\n",
    "print(indices)\n",
    "\n",
    "# Now fill the MasVnrType corresponding to MasVnrArea != NaN with BrkFace\n",
    "all_data.iloc[indices[0], all_data.columns.get_loc('MasVnrType')] = 'BrkFace'\n",
    "\n",
    "# And fill the remaining MasVnrType and MasVnrArea\n",
    "all_data['MasVnrType'].fillna('None', inplace=True)\n",
    "all_data['MasVnrArea'].fillna(0.0, inplace=True)"
   ]
  },
  {
   "cell_type": "markdown",
   "execution_count": null,
   "metadata": {
    "papermill": {
     "duration": 0.016776,
     "end_time": "2020-08-30T08:28:19.409170",
     "exception": false,
     "start_time": "2020-08-30T08:28:19.392394",
     "status": "completed"
    },
    "tags": []
   },
   "source": [
    "### 3.2.4. Basement Categorical Features\n",
    "The categorical features relating to the basement of the houses are:\n",
    "1. BsmtQual (81 missing values)\n",
    "2. BsmtCond (82 missing values)\n",
    "3. BsmtExposure (82 missing values)\n",
    "4. BsmtFinType1 (79 missing values)\n",
    "5. BsmtFinType2 (80 missing values)\n",
    "6. BsmtFullBath (2 missing values)\n",
    "7. BsmtHalfBath (2 missing values)\n",
    "\n",
    "Let's check out the distributions of these."
   ]
  },
  {
   "cell_type": "code",
   "execution_count": 14,
   "metadata": {
    "papermill": {
     "duration": 1.112681,
     "end_time": "2020-08-30T08:28:20.539092",
     "exception": false,
     "start_time": "2020-08-30T08:28:19.426411",
     "status": "completed"
    },
    "tags": []
   },
   "outputs": [
    {
     "data": {
      "image/png": "[encoded data removed]",
      "text/plain": [
       "<Figure size 864x1152 with 7 Axes>"
      ]
     },
     "metadata": {
      "needs_background": "light"
     },
     "output_type": "display_data"
    }
   ],
   "source": [
    "# Plot the distributions\n",
    "keys = ['BsmtQual', 'BsmtCond', 'BsmtExposure', 'BsmtFinType1', 'BsmtFinType2','BsmtFullBath', 'BsmtHalfBath']\n",
    "fig, axs = plt.subplots(4,2, figsize=(12,16))\n",
    "axs = axs.flatten()\n",
    "for i in range(len(keys)):\n",
    "    all_data[keys[i]].value_counts().plot(kind='bar', rot=20.0, fontsize=16, color='darkblue', \n",
    "                                          title=keys[i], ax=axs[i])\n",
    "fig.subplots_adjust(hspace=0.5)\n",
    "fig.delaxes(axs[-1]) # remove the extra subplot (only need 7 but created 8)\n",
    "plt.show()"
   ]
  },
  {
   "cell_type": "markdown",
   "execution_count": null,
   "metadata": {
    "papermill": {
     "duration": 0.023134,
     "end_time": "2020-08-30T08:28:20.583449",
     "exception": false,
     "start_time": "2020-08-30T08:28:20.560315",
     "status": "completed"
    },
    "tags": []
   },
   "source": [
    "Now as BsmtCond is almost always 3.0, let's replace the NaNs with 3.0. Let's fill the rest with the most common values too."
   ]
  },
  {
   "cell_type": "code",
   "execution_count": 15,
   "metadata": {
    "papermill": {
     "duration": 0.041048,
     "end_time": "2020-08-30T08:28:20.648165",
     "exception": false,
     "start_time": "2020-08-30T08:28:20.607117",
     "status": "completed"
    },
    "tags": []
   },
   "outputs": [],
   "source": [
    "# Fill the BsmtCond values with 3.0\n",
    "all_data['BsmtCond'].fillna(3.0, inplace=True)\n",
    "\n",
    "# Fill the rest\n",
    "all_data['BsmtQual'].fillna(3.0, inplace=True)\n",
    "all_data['BsmtExposure'].fillna('No', inplace=True)\n",
    "all_data['BsmtFinType1'].fillna('Unf', inplace=True)\n",
    "all_data['BsmtFinType2'].fillna('Unf', inplace=True)\n",
    "all_data['BsmtFullBath'].fillna(0.0, inplace=True)\n",
    "all_data['BsmtHalfBath'].fillna(0.0, inplace=True)"
   ]
  },
  {
   "cell_type": "markdown",
   "execution_count": null,
   "metadata": {
    "papermill": {
     "duration": 0.026322,
     "end_time": "2020-08-30T08:28:20.695138",
     "exception": false,
     "start_time": "2020-08-30T08:28:20.668816",
     "status": "completed"
    },
    "tags": []
   },
   "source": [
    "### 3.2.5. KitchenQual (1 missing value)"
   ]
  },
  {
   "cell_type": "code",
   "execution_count": 16,
   "metadata": {
    "papermill": {
     "duration": 0.196444,
     "end_time": "2020-08-30T08:28:20.914577",
     "exception": false,
     "start_time": "2020-08-30T08:28:20.718133",
     "status": "completed"
    },
    "tags": []
   },
   "outputs": [
    {
     "data": {
      "image/png": "[encoded data removed]",
      "text/plain": [
       "<Figure size 432x288 with 1 Axes>"
      ]
     },
     "metadata": {
      "needs_background": "light"
     },
     "output_type": "display_data"
    }
   ],
   "source": [
    "# Plot the distribution\n",
    "all_data['KitchenQual'].value_counts().plot(kind='bar', rot=90.0, fontsize=16, color='darkblue', title='KitchenQual')\n",
    "plt.show()"
   ]
  },
  {
   "cell_type": "markdown",
   "execution_count": null,
   "metadata": {
    "papermill": {
     "duration": 0.070142,
     "end_time": "2020-08-30T08:28:21.003328",
     "exception": false,
     "start_time": "2020-08-30T08:28:20.933186",
     "status": "completed"
    },
    "tags": []
   },
   "source": [
    "Check the KitchenQual correlations"
   ]
  },
  {
   "cell_type": "code",
   "execution_count": 17,
   "metadata": {
    "papermill": {
     "duration": 0.068513,
     "end_time": "2020-08-30T08:28:21.090413",
     "exception": false,
     "start_time": "2020-08-30T08:28:21.021900",
     "status": "completed"
    },
    "tags": []
   },
   "outputs": [
    {
     "name": "stdout",
     "output_type": "stream",
     "text": [
      "KitchenQual     1.000000\n",
      "OverallQual     0.676149\n",
      "SalePrice       0.659600\n",
      "YearRemodAdd    0.613899\n",
      "BsmtQual        0.593339\n",
      "Name: KitchenQual, dtype: float64\n",
      "KitchenAbvGr    -0.169973\n",
      "EnclosedPorch   -0.127369\n",
      "BsmtHalfBath    -0.057877\n",
      "OverallCond     -0.053102\n",
      "BsmtFinSF2      -0.045542\n",
      "Name: KitchenQual, dtype: float64\n"
     ]
    }
   ],
   "source": [
    "# Find the 5 largest correlations to KitchenQual\n",
    "bigCorr = all_data.corr().nlargest(5, 'KitchenQual')['KitchenQual']\n",
    "print(bigCorr)\n",
    "\n",
    "# Find the 5 largest anti-correlations to KitchenQual\n",
    "bigAnti = all_data.corr().nsmallest(5, 'KitchenQual')['KitchenQual']\n",
    "print(bigAnti)"
   ]
  },
  {
   "cell_type": "markdown",
   "execution_count": null,
   "metadata": {
    "papermill": {
     "duration": 0.017985,
     "end_time": "2020-08-30T08:28:21.127350",
     "exception": false,
     "start_time": "2020-08-30T08:28:21.109365",
     "status": "completed"
    },
    "tags": []
   },
   "source": [
    "Okay so we know that OverallQual is closely correlated to the KitchenQual and so we can fill missing values using the OverallQual.\n",
    "\n"
   ]
  },
  {
   "cell_type": "code",
   "execution_count": 18,
   "metadata": {
    "papermill": {
     "duration": 0.043452,
     "end_time": "2020-08-30T08:28:21.190059",
     "exception": false,
     "start_time": "2020-08-30T08:28:21.146607",
     "status": "completed"
    },
    "tags": []
   },
   "outputs": [
    {
     "name": "stdout",
     "output_type": "stream",
     "text": [
      "OverallQual\n",
      "1     2.0\n",
      "2     3.0\n",
      "3     3.0\n",
      "4     3.0\n",
      "5     3.0\n",
      "6     3.0\n",
      "7     4.0\n",
      "8     4.0\n",
      "9     5.0\n",
      "10    5.0\n",
      "Name: KitchenQual, dtype: float64\n",
      "[5]\n"
     ]
    }
   ],
   "source": [
    "# Calculate the mean of the KitchenQual feature and round to the nearest integer (i.e. nearest quality category)\n",
    "meanKitchenQual = np.rint(all_data.groupby(['OverallQual'])['KitchenQual'].mean())\n",
    "print(meanKitchenQual)\n",
    "\n",
    "# Check what OverallQual is for the missing KitchenQual value\n",
    "print(all_data['OverallQual'].values[np.isnan(all_data['KitchenQual'].values)])\n",
    "\n",
    "# Fill the missing KitchenQual value\n",
    "all_data['KitchenQual'].fillna(3.0, inplace=True)"
   ]
  },
  {
   "cell_type": "markdown",
   "execution_count": null,
   "metadata": {
    "papermill": {
     "duration": 0.020596,
     "end_time": "2020-08-30T08:28:21.233354",
     "exception": false,
     "start_time": "2020-08-30T08:28:21.212758",
     "status": "completed"
    },
    "tags": []
   },
   "source": [
    "### 3.2.6. Garage Categorical Features"
   ]
  },
  {
   "cell_type": "code",
   "execution_count": 19,
   "metadata": {
    "papermill": {
     "duration": 0.848865,
     "end_time": "2020-08-30T08:28:22.106050",
     "exception": false,
     "start_time": "2020-08-30T08:28:21.257185",
     "status": "completed"
    },
    "tags": []
   },
   "outputs": [
    {
     "data": {
      "image/png": "[encoded data removed]",
      "text/plain": [
       "<Figure size 936x1080 with 5 Axes>"
      ]
     },
     "metadata": {
      "needs_background": "light"
     },
     "output_type": "display_data"
    }
   ],
   "source": [
    "# Plot the categorical features\n",
    "fig, axs = plt.subplots(3,2, figsize=(13,15))\n",
    "axs = axs.flatten()\n",
    "keys = ['GarageType', 'GarageFinish', 'GarageCars', 'GarageQual', 'GarageCond']\n",
    "for i in range(len(keys)):\n",
    "    all_data[keys[i]].value_counts().plot(kind='bar', rot=40.0, fontsize=16, color='darkblue', \n",
    "                                                   title=keys[i], ax=axs[i])\n",
    "fig.subplots_adjust(hspace=0.5)\n",
    "fig.delaxes(axs[-1]) # remove the extra subplot (only need 5 but created 6)\n",
    "plt.show()"
   ]
  },
  {
   "cell_type": "code",
   "execution_count": 20,
   "metadata": {
    "papermill": {
     "duration": 0.043144,
     "end_time": "2020-08-30T08:28:22.168972",
     "exception": false,
     "start_time": "2020-08-30T08:28:22.125828",
     "status": "completed"
    },
    "tags": []
   },
   "outputs": [],
   "source": [
    "# Fill with most common values \n",
    "all_data['GarageType'].fillna('Attchd', inplace=True)\n",
    "all_data['GarageFinish'].fillna('Unf', inplace=True)\n",
    "all_data['GarageCars'].fillna(2.0, inplace=True)\n",
    "all_data['GarageQual'].fillna(3.0, inplace=True)\n",
    "all_data['GarageCond'].fillna(3.0, inplace=True)"
   ]
  },
  {
   "cell_type": "markdown",
   "execution_count": null,
   "metadata": {
    "papermill": {
     "duration": 0.018535,
     "end_time": "2020-08-30T08:28:22.206667",
     "exception": false,
     "start_time": "2020-08-30T08:28:22.188132",
     "status": "completed"
    },
    "tags": []
   },
   "source": [
    "### 3.2.7. Basement Continuous Features\n",
    "The following continuous features related to the basement:\n",
    "1. BsmtFinSF1 (1 missing value)\n",
    "2. BsmtFinSF2 (1 missing value)\n",
    "3. BsmtUnfSF (1 missing value)\n",
    "4. TotalBsmtSF (1 missing value)"
   ]
  },
  {
   "cell_type": "code",
   "execution_count": 21,
   "metadata": {
    "papermill": {
     "duration": 1.034489,
     "end_time": "2020-08-30T08:28:23.260267",
     "exception": false,
     "start_time": "2020-08-30T08:28:22.225778",
     "status": "completed"
    },
    "tags": []
   },
   "outputs": [
    {
     "data": {
      "image/png": "[encoded data removed]",
      "text/plain": [
       "<Figure size 864x864 with 4 Axes>"
      ]
     },
     "metadata": {
      "needs_background": "light"
     },
     "output_type": "display_data"
    }
   ],
   "source": [
    "# Sort this plotting out so it looks good\n",
    "keys = ['BsmtFinSF1', 'BsmtFinSF2', 'BsmtUnfSF', 'TotalBsmtSF']\n",
    "# Plot the continuous distributions\n",
    "fig, axs = plt.subplots(2,2, figsize=(12,12))\n",
    "axs = axs.flatten()\n",
    "for i in range(len(keys)):\n",
    "    all_data[keys[i]].hist(color='darkblue', ax=axs[i], bins=40)\n",
    "    axs[i].set_title(keys[i])\n",
    "fig.subplots_adjust(hspace=0.5)\n",
    "plt.show()"
   ]
  },
  {
   "cell_type": "markdown",
   "execution_count": null,
   "metadata": {
    "papermill": {
     "duration": 0.018977,
     "end_time": "2020-08-30T08:28:23.298667",
     "exception": false,
     "start_time": "2020-08-30T08:28:23.279690",
     "status": "completed"
    },
    "tags": []
   },
   "source": [
    "Now check if the NaNs are all for the same property"
   ]
  },
  {
   "cell_type": "code",
   "execution_count": 22,
   "metadata": {
    "papermill": {
     "duration": 0.033475,
     "end_time": "2020-08-30T08:28:23.351613",
     "exception": false,
     "start_time": "2020-08-30T08:28:23.318138",
     "status": "completed"
    },
    "tags": []
   },
   "outputs": [
    {
     "name": "stdout",
     "output_type": "stream",
     "text": [
      "[[2120]]\n",
      "[[2120]]\n",
      "[[2120]]\n",
      "[[2120]]\n"
     ]
    }
   ],
   "source": [
    "# Check which indices are NaN for each features\n",
    "for i in keys:\n",
    "    print(np.argwhere(np.isnan(all_data[i].values)))"
   ]
  },
  {
   "cell_type": "markdown",
   "execution_count": null,
   "metadata": {
    "papermill": {
     "duration": 0.019375,
     "end_time": "2020-08-30T08:28:23.390379",
     "exception": false,
     "start_time": "2020-08-30T08:28:23.371004",
     "status": "completed"
    },
    "tags": []
   },
   "source": [
    "Okay. So we can see that the missing values are all for the same property. Let's just fill the values with 0 for BsmtFinSF2. We can fill the missing values of BsmtFinSF1, TotalBsmtSF and BsmtUnfSF with the median of the distribution."
   ]
  },
  {
   "cell_type": "code",
   "execution_count": 23,
   "metadata": {
    "papermill": {
     "duration": 0.04036,
     "end_time": "2020-08-30T08:28:23.450306",
     "exception": false,
     "start_time": "2020-08-30T08:28:23.409946",
     "status": "completed"
    },
    "tags": []
   },
   "outputs": [
    {
     "name": "stdout",
     "output_type": "stream",
     "text": [
      "989.5 368.5 467.0\n"
     ]
    }
   ],
   "source": [
    "# Calculate median\n",
    "median_total = np.median(all_data['TotalBsmtSF'].values[~np.isnan(all_data['TotalBsmtSF'].values)])\n",
    "median_SF1 = np.median(all_data['BsmtFinSF1'].values[~np.isnan(all_data['BsmtFinSF1'].values)])\n",
    "median_Unf = np.median(all_data['BsmtUnfSF'].values[~np.isnan(all_data['BsmtUnfSF'].values)])\n",
    "print(median_total, median_SF1, median_Unf)\n",
    "\n",
    "# Fill the missing values\n",
    "all_data['BsmtFinSF1'].fillna(median_SF1, inplace=True)\n",
    "all_data['BsmtFinSF2'].fillna(0.0, inplace=True)\n",
    "all_data['BsmtUnfSF'].fillna(median_Unf, inplace=True)\n",
    "all_data['TotalBsmtSF'].fillna(median_total, inplace=True)"
   ]
  },
  {
   "cell_type": "markdown",
   "execution_count": null,
   "metadata": {
    "papermill": {
     "duration": 0.019393,
     "end_time": "2020-08-30T08:28:23.490275",
     "exception": false,
     "start_time": "2020-08-30T08:28:23.470882",
     "status": "completed"
    },
    "tags": []
   },
   "source": [
    "### 3.2.8. Garage Continuous Features"
   ]
  },
  {
   "cell_type": "code",
   "execution_count": 24,
   "metadata": {
    "papermill": {
     "duration": 0.241862,
     "end_time": "2020-08-30T08:28:23.752081",
     "exception": false,
     "start_time": "2020-08-30T08:28:23.510219",
     "status": "completed"
    },
    "tags": []
   },
   "outputs": [
    {
     "data": {
      "image/png": "[encoded data removed]",
      "text/plain": [
       "<Figure size 432x288 with 1 Axes>"
      ]
     },
     "metadata": {
      "needs_background": "light"
     },
     "output_type": "display_data"
    }
   ],
   "source": [
    "keys = [ 'GarageYrBlt', 'GarageArea']\n",
    "# Plot the distribution\n",
    "all_data['GarageArea'].hist(color='darkblue', bins=20)\n",
    "plt.show()"
   ]
  },
  {
   "cell_type": "markdown",
   "execution_count": null,
   "metadata": {
    "papermill": {
     "duration": 0.019427,
     "end_time": "2020-08-30T08:28:23.791414",
     "exception": false,
     "start_time": "2020-08-30T08:28:23.771987",
     "status": "completed"
    },
    "tags": []
   },
   "source": [
    "If GarageYrBlt is not available just set this as the same year the house was built (YearBuilt)"
   ]
  },
  {
   "cell_type": "code",
   "execution_count": 25,
   "metadata": {
    "papermill": {
     "duration": 0.03651,
     "end_time": "2020-08-30T08:28:23.847928",
     "exception": false,
     "start_time": "2020-08-30T08:28:23.811418",
     "status": "completed"
    },
    "tags": []
   },
   "outputs": [
    {
     "name": "stdout",
     "output_type": "stream",
     "text": [
      "480.0\n"
     ]
    }
   ],
   "source": [
    "# Find the NaNs\n",
    "garage_yr_built = all_data['GarageYrBlt'].values\n",
    "indices = np.argwhere(np.isnan(garage_yr_built))\n",
    "\n",
    "# Update the data\n",
    "yearbuilt = all_data['YearBuilt'].values[indices]\n",
    "garage_yr_built[indices] = yearbuilt\n",
    "\n",
    "# Save to the dataframe\n",
    "all_data['GarageYrBlt'] = garage_yr_built\n",
    "\n",
    "\n",
    "# Fill area with median\n",
    "median = np.median(all_data['GarageArea'].values[~np.isnan(all_data['GarageArea'].values)])\n",
    "print(median)\n",
    "all_data['GarageArea'].fillna(median, inplace=True)"
   ]
  },
  {
   "cell_type": "markdown",
   "execution_count": null,
   "metadata": {
    "papermill": {
     "duration": 0.019229,
     "end_time": "2020-08-30T08:28:23.887422",
     "exception": false,
     "start_time": "2020-08-30T08:28:23.868193",
     "status": "completed"
    },
    "tags": []
   },
   "source": [
    "### 3.2.9. SaleType (1 missing value)"
   ]
  },
  {
   "cell_type": "code",
   "execution_count": 26,
   "metadata": {
    "papermill": {
     "duration": 0.311124,
     "end_time": "2020-08-30T08:28:24.218206",
     "exception": false,
     "start_time": "2020-08-30T08:28:23.907082",
     "status": "completed"
    },
    "tags": []
   },
   "outputs": [
    {
     "data": {
      "image/png": "[encoded data removed]",
      "text/plain": [
       "<Figure size 432x288 with 1 Axes>"
      ]
     },
     "metadata": {
      "needs_background": "light"
     },
     "output_type": "display_data"
    }
   ],
   "source": [
    "# Plot the distribution\n",
    "all_data['SaleType'].value_counts().plot(kind='bar', rot=90.0, fontsize=16, color='darkblue', title='SaleType')\n",
    "plt.show()\n",
    "\n",
    "# Fill with the most common value\n",
    "all_data['SaleType'].fillna('WD', inplace=True)"
   ]
  },
  {
   "cell_type": "markdown",
   "execution_count": null,
   "metadata": {
    "papermill": {
     "duration": 0.019186,
     "end_time": "2020-08-30T08:28:24.257323",
     "exception": false,
     "start_time": "2020-08-30T08:28:24.238137",
     "status": "completed"
    },
    "tags": []
   },
   "source": [
    "### 3.2.10. LotFrontage (486 missing values)"
   ]
  },
  {
   "cell_type": "code",
   "execution_count": 27,
   "metadata": {
    "papermill": {
     "duration": 0.032951,
     "end_time": "2020-08-30T08:28:24.310143",
     "exception": false,
     "start_time": "2020-08-30T08:28:24.277192",
     "status": "completed"
    },
    "tags": []
   },
   "outputs": [
    {
     "name": "stdout",
     "output_type": "stream",
     "text": [
      "68.0\n"
     ]
    }
   ],
   "source": [
    "# Fill Frontage with median\n",
    "median = np.median(all_data['LotFrontage'].values[~np.isnan(all_data['LotFrontage'].values)])\n",
    "print(median)\n",
    "all_data['LotFrontage'].fillna(median, inplace=True)"
   ]
  },
  {
   "cell_type": "code",
   "execution_count": 28,
   "metadata": {
    "papermill": {
     "duration": 0.043208,
     "end_time": "2020-08-30T08:28:24.375224",
     "exception": false,
     "start_time": "2020-08-30T08:28:24.332016",
     "status": "completed"
    },
    "tags": []
   },
   "outputs": [
    {
     "name": "stdout",
     "output_type": "stream",
     "text": [
      "[   0    0    0    0    0    0    0    0    0    0    0    0    0    0\n",
      "    0    0    0    0    0    0    0    0    0    0    0    0    0    0\n",
      "    0    0    0    0    0    0    0    0    0    0    0    0    0    0\n",
      "    0    0    0    0    0    0    0    0    0    0    0    0    0    0\n",
      "    0    0    0    0    0    0    0    0    0    0    0    0    0    0\n",
      "    0    0    0    0 1459]\n"
     ]
    }
   ],
   "source": [
    "# Check everything has been filled as expected\n",
    "print(all_data.isnull().sum().values)"
   ]
  },
  {
   "cell_type": "markdown",
   "execution_count": null,
   "metadata": {
    "papermill": {
     "duration": 0.021347,
     "end_time": "2020-08-30T08:28:24.417107",
     "exception": false,
     "start_time": "2020-08-30T08:28:24.395760",
     "status": "completed"
    },
    "tags": []
   },
   "source": [
    "Here we can see that there are no NaNs except for the last feature. This last feature is the SalePrice that we are trying to predict for the test set.\n",
    "\n",
    "## 3.3. Expanding Existing Features\n",
    "\n",
    "Let's expand some of the features which could provide some helpful information for the model. This part can take the most time and can really improve model accuracy. Here we will just do some fairly simple things but it is possible to do much more advanced feature enegineering."
   ]
  },
  {
   "cell_type": "code",
   "execution_count": 29,
   "metadata": {
    "papermill": {
     "duration": 0.074407,
     "end_time": "2020-08-30T08:28:24.511814",
     "exception": false,
     "start_time": "2020-08-30T08:28:24.437407",
     "status": "completed"
    },
    "tags": []
   },
   "outputs": [],
   "source": [
    "# ==== Get features ready for one-hot encoding\n",
    "# MoSold\n",
    "mapping = {1: 'Jan', 2:'Feb', 3:'Mar', 4:'Apr', 5:'May', 6:'Jun', 7:'Jul', \n",
    "           8:'Aug', 9:'Sep', 10:'Oct', 11:'Nov', 12:'Dec'}\n",
    "all_data.replace({'MoSold': mapping}, inplace=True)\n",
    "\n",
    "# MSSubClass\n",
    "mapping = {20:'A', 30:'B', 40:'C', 45:'D', 50:'E', 60:'F', 70:'G', 75:'H', 80:'I', 85:'J', \n",
    "           90:'K', 120:'L', 150:'M', 160:'N', 180:'O', 190:'P'}\n",
    "all_data.replace({'MSSubClass': mapping}, inplace=True)\n",
    "\n",
    "\n",
    "# ==== Create some new features\n",
    "all_data['sale_age'] = 2020 - all_data['YrSold'] \n",
    "all_data['house_age'] = 2020 - all_data['YearBuilt'] \n",
    "all_data['remodel_age'] = 2020 - all_data['YearRemodAdd']\n",
    "all_data['garage_age'] = 2020 - all_data['GarageYrBlt']\n",
    "all_data.drop(columns=['YrSold', 'YearBuilt', 'YearRemodAdd', 'GarageYrBlt'], inplace=True)\n",
    "\n",
    "\n",
    "all_data['TotalArea'] = (all_data['TotalBsmtSF'] + all_data['1stFlrSF'] + all_data['2ndFlrSF']\n",
    "                         + all_data['GrLivArea'] + all_data['GarageArea'])\n",
    "all_data['TotalBathrooms'] = all_data['FullBath'] + all_data['HalfBath']*0.5 "
   ]
  },
  {
   "cell_type": "markdown",
   "execution_count": null,
   "metadata": {
    "papermill": {
     "duration": 0.020071,
     "end_time": "2020-08-30T08:28:24.552758",
     "exception": false,
     "start_time": "2020-08-30T08:28:24.532687",
     "status": "completed"
    },
    "tags": []
   },
   "source": [
    "## 3.4. Handling Categorical Text Data \n",
    "\n",
    "One way of handling categorical text data is to use one-hot encoding. This creates a new column for each possible value of a feature. The columns are filled with a 1 or a 0 depending on whether the feature takes that value.\n",
    "\n",
    "Below we do one-hot encoding on all the text based categorical features in the dataset."
   ]
  },
  {
   "cell_type": "code",
   "execution_count": 30,
   "metadata": {
    "papermill": {
     "duration": 0.22121,
     "end_time": "2020-08-30T08:28:24.794584",
     "exception": false,
     "start_time": "2020-08-30T08:28:24.573374",
     "status": "completed"
    },
    "tags": []
   },
   "outputs": [],
   "source": [
    "# Specify which columns to one hot encode\n",
    "columns = ['MSZoning', 'MSSubClass', 'PavedDrive', 'GarageFinish', 'Foundation', 'Functional', 'LandContour', 'Condition1', \n",
    "           'Condition2', 'Street', 'LotShape', 'ExterQual', 'ExterCond', 'LotConfig', 'LandSlope', 'Neighborhood','BldgType',\n",
    "           'HouseStyle', 'RoofStyle', 'RoofMatl', 'Exterior1st','Exterior2nd', 'MasVnrType', 'BsmtExposure', 'BsmtFinType1',\n",
    "           'BsmtFinType2', 'Heating', 'HeatingQC', 'CentralAir', 'Electrical', 'GarageType', 'SaleType', 'SaleCondition', \n",
    "           'MoSold']\n",
    "\n",
    "# Do the encoding\n",
    "one_hot = pd.get_dummies(all_data.loc[:, columns], drop_first=True)\n",
    "all_data.drop(columns=columns, inplace=True)\n",
    "for i in range(len(one_hot.columns.values)):\n",
    "    all_data[one_hot.columns.values[i]] = one_hot[one_hot.columns.values[i]].values"
   ]
  },
  {
   "cell_type": "markdown",
   "execution_count": null,
   "metadata": {
    "papermill": {
     "duration": 0.019784,
     "end_time": "2020-08-30T08:28:24.834691",
     "exception": false,
     "start_time": "2020-08-30T08:28:24.814907",
     "status": "completed"
    },
    "tags": []
   },
   "source": [
    "# 4. Fitting Models to the Data\n",
    "\n",
    "## 4.1. Preparing the Data\n",
    "\n",
    "We now need to get our data ready for the model. To do this, we should separate the data used for training and testing our model from the data used to make house price predictions."
   ]
  },
  {
   "cell_type": "code",
   "execution_count": 31,
   "metadata": {
    "papermill": {
     "duration": 0.045302,
     "end_time": "2020-08-30T08:28:24.900271",
     "exception": false,
     "start_time": "2020-08-30T08:28:24.854969",
     "status": "completed"
    },
    "tags": []
   },
   "outputs": [
    {
     "name": "stderr",
     "output_type": "stream",
     "text": [
      "/opt/conda/lib/python3.7/site-packages/pandas/core/frame.py:3997: SettingWithCopyWarning: \n",
      "A value is trying to be set on a copy of a slice from a DataFrame\n",
      "\n",
      "See the caveats in the documentation: https://pandas.pydata.org/pandas-docs/stable/user_guide/indexing.html#returning-a-view-versus-a-copy\n",
      "  errors=errors,\n"
     ]
    }
   ],
   "source": [
    "# Separate the data into prediction and model data\n",
    "predict_data = all_data.loc[np.isnan(all_data['SalePrice'].values)]\n",
    "model_data = all_data.loc[~np.isnan(all_data['SalePrice'].values)]\n",
    "predict_ids = predict_data['Id'].values\n",
    "\n",
    "# Remove ID so that the model is not trained on this. We add this back into the data before submission\n",
    "predict_data.drop(columns=['Id'], inplace=True)\n",
    "model_data.drop(columns=['Id'], inplace=True)"
   ]
  },
  {
   "cell_type": "markdown",
   "execution_count": null,
   "metadata": {
    "papermill": {
     "duration": 0.020086,
     "end_time": "2020-08-30T08:28:24.940754",
     "exception": false,
     "start_time": "2020-08-30T08:28:24.920668",
     "status": "completed"
    },
    "tags": []
   },
   "source": [
    "We can also remove some outliers to improve how our model is trained. This code is adapted from this notebook: https://www.kaggle.com/yassineghouzam/titanic-top-4-with-ensemble-modeling"
   ]
  },
  {
   "cell_type": "code",
   "execution_count": 32,
   "metadata": {
    "papermill": {
     "duration": 0.046709,
     "end_time": "2020-08-30T08:28:25.007744",
     "exception": false,
     "start_time": "2020-08-30T08:28:24.961035",
     "status": "completed"
    },
    "tags": []
   },
   "outputs": [],
   "source": [
    "# Remove outliers from the training data \n",
    "from collections import Counter\n",
    "\n",
    "def detect_outliers(df,n,features):\n",
    "    outlier_indices = []\n",
    "    for col in features:\n",
    "        Q1 = np.percentile(df[col], 25) # 1st quartile (25%)\n",
    "        Q3 = np.percentile(df[col],75) # 3rd quartile (75%)\n",
    "        IQR = Q3 - Q1 # Interquartile range (IQR)\n",
    "        outlier_step = 1.5 * IQR # outlier step\n",
    "        \n",
    "        # Determine a list of indices of outliers for feature col\n",
    "        outlier_list_col = df[(df[col] < Q1 - outlier_step) | (df[col] > Q3 + outlier_step )].index\n",
    "        # append the found outlier indices for col to the list of outlier indices \n",
    "        outlier_indices.extend(outlier_list_col)\n",
    "    # select observations containing more than n outliers\n",
    "    outlier_indices = Counter(outlier_indices)        \n",
    "    multiple_outliers = list( k for k, v in outlier_indices.items() if v > n )\n",
    "    \n",
    "    return multiple_outliers \n",
    "\n",
    "# Detect outliers from SalePrice, LotArea, GarageArea\n",
    "Outliers_to_drop = detect_outliers(model_data,1,[\"SalePrice\", 'LotArea', 'GarageArea'])\n",
    "model_data = model_data.drop(Outliers_to_drop, axis = 0).reset_index(drop=True)"
   ]
  },
  {
   "cell_type": "markdown",
   "execution_count": null,
   "metadata": {
    "papermill": {
     "duration": 0.019968,
     "end_time": "2020-08-30T08:28:25.047960",
     "exception": false,
     "start_time": "2020-08-30T08:28:25.027992",
     "status": "completed"
    },
    "tags": []
   },
   "source": [
    "Now we need to scale the training and prediction datasets by the same amount. This scales all the data to take values between 0 and 1, which ensures features with larger numerical values are not incorrectly favoured over features with smaller numerical values."
   ]
  },
  {
   "cell_type": "code",
   "execution_count": 33,
   "metadata": {
    "papermill": {
     "duration": 0.107329,
     "end_time": "2020-08-30T08:28:25.175961",
     "exception": false,
     "start_time": "2020-08-30T08:28:25.068632",
     "status": "completed"
    },
    "tags": []
   },
   "outputs": [],
   "source": [
    "# Scale the data\n",
    "from sklearn.preprocessing import MinMaxScaler\n",
    "scaler = MinMaxScaler()\n",
    "scaler.fit(model_data.drop(columns=['SalePrice']))\n",
    "X_train = scaler.transform(model_data.drop(columns=['SalePrice']))\n",
    "y_train = model_data['SalePrice'] \n",
    "\n",
    "X_predict_data_scaled = scaler.transform(predict_data.drop(columns=['SalePrice']))"
   ]
  },
  {
   "cell_type": "markdown",
   "execution_count": null,
   "metadata": {
    "papermill": {
     "duration": 0.019812,
     "end_time": "2020-08-30T08:28:25.216090",
     "exception": false,
     "start_time": "2020-08-30T08:28:25.196278",
     "status": "completed"
    },
    "tags": []
   },
   "source": [
    "## 4.2. Random Forest Regression\n",
    "\n",
    "Let's now fit the RandomForestRegressor to the model dataset in order to make predictions about the house prices. First we need to import the required modules. We use GridSearchCV here to search for the best model hyperparameters to fit the data. "
   ]
  },
  {
   "cell_type": "code",
   "execution_count": 34,
   "metadata": {
    "papermill": {
     "duration": 0.228372,
     "end_time": "2020-08-30T08:28:25.464700",
     "exception": false,
     "start_time": "2020-08-30T08:28:25.236328",
     "status": "completed"
    },
    "tags": []
   },
   "outputs": [],
   "source": [
    "# Import some required modules for the fitting\n",
    "from sklearn.ensemble import RandomForestRegressor\n",
    "from sklearn.model_selection import GridSearchCV"
   ]
  },
  {
   "cell_type": "code",
   "execution_count": 35,
   "metadata": {
    "papermill": {
     "duration": 80.723996,
     "end_time": "2020-08-30T08:29:46.209219",
     "exception": false,
     "start_time": "2020-08-30T08:28:25.485223",
     "status": "completed"
    },
    "tags": []
   },
   "outputs": [
    {
     "name": "stdout",
     "output_type": "stream",
     "text": [
      "{'criterion': 'mse', 'max_depth': 11, 'max_features': 'auto', 'n_estimators': 110}\n",
      "0.8586406035740607\n"
     ]
    },
    {
     "data": {
      "text/plain": [
       "RandomForestRegressor(bootstrap=True, ccp_alpha=0.0, criterion='mse',\n",
       "                      max_depth=11, max_features='auto', max_leaf_nodes=None,\n",
       "                      max_samples=None, min_impurity_decrease=0.0,\n",
       "                      min_impurity_split=None, min_samples_leaf=1,\n",
       "                      min_samples_split=2, min_weight_fraction_leaf=0.0,\n",
       "                      n_estimators=110, n_jobs=None, oob_score=False,\n",
       "                      random_state=None, verbose=0, warm_start=False)"
      ]
     },
     "execution_count": 35,
     "metadata": {},
     "output_type": "execute_result"
    }
   ],
   "source": [
    "# Search for the optimal hyperparameters for RF\n",
    "param_grid = { \n",
    "    'criterion' : ['mse'],\n",
    "    'n_estimators': [90, 100, 110],\n",
    "    'max_features': ['auto', 'log2'],\n",
    "    'max_depth' : [7, 9, 11, 13]    \n",
    "                }\n",
    "\n",
    "randomForest_CV = GridSearchCV(estimator = RandomForestRegressor(), param_grid = param_grid, cv = 3)\n",
    "randomForest_CV.fit(X_train, y_train)\n",
    "print(randomForest_CV.best_params_)\n",
    "\n",
    "# Print the best score\n",
    "print(randomForest_CV.best_score_)\n",
    "\n",
    "# Get the parameters from the best fit\n",
    "criterion = randomForest_CV.best_params_.get('criterion')\n",
    "nRF = randomForest_CV.best_params_.get('n_estimators')\n",
    "max_features = randomForest_CV.best_params_.get('max_features')\n",
    "max_depth = randomForest_CV.best_params_.get('max_depth')\n",
    "\n",
    "# Train the classifier on all the data for predicting the test data (use best hyperparams)\n",
    "bestRF = RandomForestRegressor(n_estimators=nRF, max_depth=max_depth, max_features=max_features, criterion=criterion)\n",
    "bestRF.fit(X_train, y_train)"
   ]
  },
  {
   "cell_type": "markdown",
   "execution_count": null,
   "metadata": {
    "papermill": {
     "duration": 0.020232,
     "end_time": "2020-08-30T08:29:46.250358",
     "exception": false,
     "start_time": "2020-08-30T08:29:46.230126",
     "status": "completed"
    },
    "tags": []
   },
   "source": [
    "## 4.3. XGBoost Regression\n",
    "\n",
    "Now we can also try the XGBoostRegressor and see how this performs. We haven't bothered tuning the hyperparamters here but this is something that could be implemented."
   ]
  },
  {
   "cell_type": "code",
   "execution_count": 36,
   "metadata": {
    "papermill": {
     "duration": 15.861934,
     "end_time": "2020-08-30T08:30:02.133434",
     "exception": false,
     "start_time": "2020-08-30T08:29:46.271500",
     "status": "completed"
    },
    "tags": []
   },
   "outputs": [
    {
     "data": {
      "text/plain": [
       "XGBRegressor(base_score=0.5, booster=None, colsample_bylevel=1,\n",
       "             colsample_bynode=1, colsample_bytree=1, gamma=0, gpu_id=-1,\n",
       "             importance_type='gain', interaction_constraints=None,\n",
       "             learning_rate=0.01, max_delta_step=0, max_depth=3,\n",
       "             min_child_weight=1, missing=nan, monotone_constraints=None,\n",
       "             n_estimators=3460, n_jobs=0, num_parallel_tree=1,\n",
       "             objective='reg:squarederror', random_state=0, reg_alpha=0,\n",
       "             reg_lambda=1, scale_pos_weight=1, subsample=1, tree_method=None,\n",
       "             validate_parameters=False, verbosity=None)"
      ]
     },
     "execution_count": 36,
     "metadata": {},
     "output_type": "execute_result"
    }
   ],
   "source": [
    "import xgboost as xgb\n",
    "xgboost = xgb.XGBRegressor(learning_rate=0.01,n_estimators=3460,\n",
    "                                    max_depth=3)\n",
    "xgboost.fit(X_train,y_train)"
   ]
  },
  {
   "cell_type": "markdown",
   "execution_count": null,
   "metadata": {
    "papermill": {
     "duration": 0.025158,
     "end_time": "2020-08-30T08:30:02.184235",
     "exception": false,
     "start_time": "2020-08-30T08:30:02.159077",
     "status": "completed"
    },
    "tags": []
   },
   "source": [
    "# 5. Generating Submission Files\n",
    "\n",
    "Now that we have trained our models, we need to use them to make predictions and then generate submission files with these predictions."
   ]
  },
  {
   "cell_type": "code",
   "execution_count": 37,
   "metadata": {
    "papermill": {
     "duration": 0.223886,
     "end_time": "2020-08-30T08:30:02.433906",
     "exception": false,
     "start_time": "2020-08-30T08:30:02.210020",
     "status": "completed"
    },
    "tags": []
   },
   "outputs": [],
   "source": [
    "# Use the models to predict the output of the test data\n",
    "testPredictionsRF = bestRF.predict(X_predict_data_scaled)\n",
    "testPredictionsXGB = xgboost.predict(X_predict_data_scaled)\n",
    "\n",
    "# Save the outputs to csv files\n",
    "outputRF = pd.DataFrame({'Id': predict_ids, 'SalePrice': testPredictionsRF})\n",
    "outputRF.to_csv('my_submissionRF.csv', index=False)\n",
    "\n",
    "outputXGB = pd.DataFrame({'Id': predict_ids, 'SalePrice': testPredictionsXGB})\n",
    "outputXGB.to_csv('my_submissionXGB.csv', index=False)"
   ]
  },
  {
   "cell_type": "markdown",
   "execution_count": null,
   "metadata": {
    "papermill": {
     "duration": 0.024611,
     "end_time": "2020-08-30T08:30:02.484295",
     "exception": false,
     "start_time": "2020-08-30T08:30:02.459684",
     "status": "completed"
    },
    "tags": []
   },
   "source": [
    "And that's everything for now. This notebook (as of writing) scores in the top 32% (XGBoost model), which is not bad considering that we have not done anything too complicated. **If you have made it this far, please give the notebook an upvote! It really helps.**"
   ]
  }
 ],
 "metadata": {
  "kernelspec": {
   "display_name": "Python 3",
   "language": "python",
   "name": "python3"
  },
  "language_info": {
   "codemirror_mode": {
    "name": "ipython",
    "version": 3
   },
   "file_extension": ".py",
   "mimetype": "text/x-python",
   "name": "python",
   "nbconvert_exporter": "python",
   "pygments_lexer": "ipython3",
   "version": "3.7.6"
  },
  "papermill": {
   "duration": 111.517382,
   "end_time": "2020-08-30T08:30:03.118498",
   "environment_variables": {},
   "exception": null,
   "input_path": "__notebook__.ipynb",
   "output_path": "__notebook__.ipynb",
   "parameters": {},
   "start_time": "2020-08-30T08:28:11.601116",
   "version": "1.2.1"
  }
 },
 "nbformat": 4,
 "nbformat_minor": 4
}
