{
 "cells": [
  {
   "cell_type": "markdown",
   "metadata": {},
   "source": [
    "# Titanic Kaggle Competition\n",
    "This is my second attempt at the Titanic Kaggle competition. I have used a lot of content that I initially wrote for my [first notebook](https://www.kaggle.com/thomaswoolley/random-forest-titanic-beginners-0-76-score). In this notebook I try to improve my score by doing more feature engineering and by using a Grid Search to tune the hyperparameters of my models. I also try using the k-Nearest-Neighbours classifier and a Random Forest model.\n",
    "\n",
    "If this notebook is helpful for you, please give it an upvote! Enjoy!\n",
    "\n",
    "This notebook is available on kaggle [here](https://www.kaggle.com/thomaswoolley/rf-and-k-nn-titanic-0-79-score) and GitHub [here](https://github.com/Woolley12345/kaggle-competitions)."
   ]
  },
  {
   "cell_type": "markdown",
   "metadata": {},
   "source": [
    "# 1. **Loading Modules and Data**\n",
    "\n",
    "We have to import modules and the data before we can do any analysis."
   ]
  },
  {
   "cell_type": "code",
   "execution_count": 58,
   "metadata": {
    "_cell_guid": "b1076dfc-b9ad-4769-8c92-a6c4dae69d19",
    "_uuid": "8f2839f25d086af736a60e9eeb907d3b93b6e0e5"
   },
   "outputs": [
    {
     "name": "stdout",
     "output_type": "stream",
     "text": [
      "/kaggle/input/titanic/gender_submission.csv\n",
      "/kaggle/input/titanic/test.csv\n",
      "/kaggle/input/titanic/train.csv\n"
     ]
    }
   ],
   "source": [
    "import numpy as np # linear algebra\n",
    "import pandas as pd # data processing, CSV file I/O (e.g. pd.read_csv)\n",
    "import matplotlib.pyplot as plt #plottting\n",
    "import seaborn as sns # more plotting\n",
    "\n",
    "# Input data files are available in the \"../input/\" directory.\n",
    "# For example, running this (by clicking run or pressing Shift+Enter) will list all files under the input directory\n",
    "import os\n",
    "for dirname, _, filenames in os.walk('/kaggle/input'):\n",
    "    for filename in filenames:\n",
    "        print(os.path.join(dirname, filename))\n",
    "\n",
    "# Any results you write to the current directory are saved as output."
   ]
  },
  {
   "cell_type": "markdown",
   "metadata": {},
   "source": [
    "Now let's load in the data using pandas as visualise the top of the training and testing data."
   ]
  },
  {
   "cell_type": "code",
   "execution_count": 59,
   "metadata": {},
   "outputs": [
    {
     "data": {
      "text/html": [
       "<div>\n",
       "<style scoped>\n",
       "    .dataframe tbody tr th:only-of-type {\n",
       "        vertical-align: middle;\n",
       "    }\n",
       "\n",
       "    .dataframe tbody tr th {\n",
       "        vertical-align: top;\n",
       "    }\n",
       "\n",
       "    .dataframe thead th {\n",
       "        text-align: right;\n",
       "    }\n",
       "</style>\n",
       "<table border=\"1\" class=\"dataframe\">\n",
       "  <thead>\n",
       "    <tr style=\"text-align: right;\">\n",
       "      <th></th>\n",
       "      <th>PassengerId</th>\n",
       "      <th>Survived</th>\n",
       "      <th>Pclass</th>\n",
       "      <th>Name</th>\n",
       "      <th>Sex</th>\n",
       "      <th>Age</th>\n",
       "      <th>SibSp</th>\n",
       "      <th>Parch</th>\n",
       "      <th>Ticket</th>\n",
       "      <th>Fare</th>\n",
       "      <th>Cabin</th>\n",
       "      <th>Embarked</th>\n",
       "    </tr>\n",
       "  </thead>\n",
       "  <tbody>\n",
       "    <tr>\n",
       "      <th>0</th>\n",
       "      <td>1</td>\n",
       "      <td>0</td>\n",
       "      <td>3</td>\n",
       "      <td>Braund, Mr. Owen Harris</td>\n",
       "      <td>male</td>\n",
       "      <td>22.0</td>\n",
       "      <td>1</td>\n",
       "      <td>0</td>\n",
       "      <td>A/5 21171</td>\n",
       "      <td>7.2500</td>\n",
       "      <td>NaN</td>\n",
       "      <td>S</td>\n",
       "    </tr>\n",
       "    <tr>\n",
       "      <th>1</th>\n",
       "      <td>2</td>\n",
       "      <td>1</td>\n",
       "      <td>1</td>\n",
       "      <td>Cumings, Mrs. John Bradley (Florence Briggs Th...</td>\n",
       "      <td>female</td>\n",
       "      <td>38.0</td>\n",
       "      <td>1</td>\n",
       "      <td>0</td>\n",
       "      <td>PC 17599</td>\n",
       "      <td>71.2833</td>\n",
       "      <td>C85</td>\n",
       "      <td>C</td>\n",
       "    </tr>\n",
       "    <tr>\n",
       "      <th>2</th>\n",
       "      <td>3</td>\n",
       "      <td>1</td>\n",
       "      <td>3</td>\n",
       "      <td>Heikkinen, Miss. Laina</td>\n",
       "      <td>female</td>\n",
       "      <td>26.0</td>\n",
       "      <td>0</td>\n",
       "      <td>0</td>\n",
       "      <td>STON/O2. 3101282</td>\n",
       "      <td>7.9250</td>\n",
       "      <td>NaN</td>\n",
       "      <td>S</td>\n",
       "    </tr>\n",
       "    <tr>\n",
       "      <th>3</th>\n",
       "      <td>4</td>\n",
       "      <td>1</td>\n",
       "      <td>1</td>\n",
       "      <td>Futrelle, Mrs. Jacques Heath (Lily May Peel)</td>\n",
       "      <td>female</td>\n",
       "      <td>35.0</td>\n",
       "      <td>1</td>\n",
       "      <td>0</td>\n",
       "      <td>113803</td>\n",
       "      <td>53.1000</td>\n",
       "      <td>C123</td>\n",
       "      <td>S</td>\n",
       "    </tr>\n",
       "    <tr>\n",
       "      <th>4</th>\n",
       "      <td>5</td>\n",
       "      <td>0</td>\n",
       "      <td>3</td>\n",
       "      <td>Allen, Mr. William Henry</td>\n",
       "      <td>male</td>\n",
       "      <td>35.0</td>\n",
       "      <td>0</td>\n",
       "      <td>0</td>\n",
       "      <td>373450</td>\n",
       "      <td>8.0500</td>\n",
       "      <td>NaN</td>\n",
       "      <td>S</td>\n",
       "    </tr>\n",
       "  </tbody>\n",
       "</table>\n",
       "</div>"
      ],
      "text/plain": [
       "   PassengerId  Survived  Pclass  \\\n",
       "0            1         0       3   \n",
       "1            2         1       1   \n",
       "2            3         1       3   \n",
       "3            4         1       1   \n",
       "4            5         0       3   \n",
       "\n",
       "                                                Name     Sex   Age  SibSp  \\\n",
       "0                            Braund, Mr. Owen Harris    male  22.0      1   \n",
       "1  Cumings, Mrs. John Bradley (Florence Briggs Th...  female  38.0      1   \n",
       "2                             Heikkinen, Miss. Laina  female  26.0      0   \n",
       "3       Futrelle, Mrs. Jacques Heath (Lily May Peel)  female  35.0      1   \n",
       "4                           Allen, Mr. William Henry    male  35.0      0   \n",
       "\n",
       "   Parch            Ticket     Fare Cabin Embarked  \n",
       "0      0         A/5 21171   7.2500   NaN        S  \n",
       "1      0          PC 17599  71.2833   C85        C  \n",
       "2      0  STON/O2. 3101282   7.9250   NaN        S  \n",
       "3      0            113803  53.1000  C123        S  \n",
       "4      0            373450   8.0500   NaN        S  "
      ]
     },
     "execution_count": 59,
     "metadata": {},
     "output_type": "execute_result"
    }
   ],
   "source": [
    "# Load in the test and training data and then check the top 5 rows of each\n",
    "train_data = pd.read_csv(\"/kaggle/input/titanic/train.csv\")\n",
    "test_data = pd.read_csv(\"/kaggle/input/titanic/test.csv\")\n",
    "train_data.head()"
   ]
  },
  {
   "cell_type": "code",
   "execution_count": 60,
   "metadata": {},
   "outputs": [
    {
     "data": {
      "text/html": [
       "<div>\n",
       "<style scoped>\n",
       "    .dataframe tbody tr th:only-of-type {\n",
       "        vertical-align: middle;\n",
       "    }\n",
       "\n",
       "    .dataframe tbody tr th {\n",
       "        vertical-align: top;\n",
       "    }\n",
       "\n",
       "    .dataframe thead th {\n",
       "        text-align: right;\n",
       "    }\n",
       "</style>\n",
       "<table border=\"1\" class=\"dataframe\">\n",
       "  <thead>\n",
       "    <tr style=\"text-align: right;\">\n",
       "      <th></th>\n",
       "      <th>PassengerId</th>\n",
       "      <th>Pclass</th>\n",
       "      <th>Name</th>\n",
       "      <th>Sex</th>\n",
       "      <th>Age</th>\n",
       "      <th>SibSp</th>\n",
       "      <th>Parch</th>\n",
       "      <th>Ticket</th>\n",
       "      <th>Fare</th>\n",
       "      <th>Cabin</th>\n",
       "      <th>Embarked</th>\n",
       "    </tr>\n",
       "  </thead>\n",
       "  <tbody>\n",
       "    <tr>\n",
       "      <th>0</th>\n",
       "      <td>892</td>\n",
       "      <td>3</td>\n",
       "      <td>Kelly, Mr. James</td>\n",
       "      <td>male</td>\n",
       "      <td>34.5</td>\n",
       "      <td>0</td>\n",
       "      <td>0</td>\n",
       "      <td>330911</td>\n",
       "      <td>7.8292</td>\n",
       "      <td>NaN</td>\n",
       "      <td>Q</td>\n",
       "    </tr>\n",
       "    <tr>\n",
       "      <th>1</th>\n",
       "      <td>893</td>\n",
       "      <td>3</td>\n",
       "      <td>Wilkes, Mrs. James (Ellen Needs)</td>\n",
       "      <td>female</td>\n",
       "      <td>47.0</td>\n",
       "      <td>1</td>\n",
       "      <td>0</td>\n",
       "      <td>363272</td>\n",
       "      <td>7.0000</td>\n",
       "      <td>NaN</td>\n",
       "      <td>S</td>\n",
       "    </tr>\n",
       "    <tr>\n",
       "      <th>2</th>\n",
       "      <td>894</td>\n",
       "      <td>2</td>\n",
       "      <td>Myles, Mr. Thomas Francis</td>\n",
       "      <td>male</td>\n",
       "      <td>62.0</td>\n",
       "      <td>0</td>\n",
       "      <td>0</td>\n",
       "      <td>240276</td>\n",
       "      <td>9.6875</td>\n",
       "      <td>NaN</td>\n",
       "      <td>Q</td>\n",
       "    </tr>\n",
       "    <tr>\n",
       "      <th>3</th>\n",
       "      <td>895</td>\n",
       "      <td>3</td>\n",
       "      <td>Wirz, Mr. Albert</td>\n",
       "      <td>male</td>\n",
       "      <td>27.0</td>\n",
       "      <td>0</td>\n",
       "      <td>0</td>\n",
       "      <td>315154</td>\n",
       "      <td>8.6625</td>\n",
       "      <td>NaN</td>\n",
       "      <td>S</td>\n",
       "    </tr>\n",
       "    <tr>\n",
       "      <th>4</th>\n",
       "      <td>896</td>\n",
       "      <td>3</td>\n",
       "      <td>Hirvonen, Mrs. Alexander (Helga E Lindqvist)</td>\n",
       "      <td>female</td>\n",
       "      <td>22.0</td>\n",
       "      <td>1</td>\n",
       "      <td>1</td>\n",
       "      <td>3101298</td>\n",
       "      <td>12.2875</td>\n",
       "      <td>NaN</td>\n",
       "      <td>S</td>\n",
       "    </tr>\n",
       "  </tbody>\n",
       "</table>\n",
       "</div>"
      ],
      "text/plain": [
       "   PassengerId  Pclass                                          Name     Sex  \\\n",
       "0          892       3                              Kelly, Mr. James    male   \n",
       "1          893       3              Wilkes, Mrs. James (Ellen Needs)  female   \n",
       "2          894       2                     Myles, Mr. Thomas Francis    male   \n",
       "3          895       3                              Wirz, Mr. Albert    male   \n",
       "4          896       3  Hirvonen, Mrs. Alexander (Helga E Lindqvist)  female   \n",
       "\n",
       "    Age  SibSp  Parch   Ticket     Fare Cabin Embarked  \n",
       "0  34.5      0      0   330911   7.8292   NaN        Q  \n",
       "1  47.0      1      0   363272   7.0000   NaN        S  \n",
       "2  62.0      0      0   240276   9.6875   NaN        Q  \n",
       "3  27.0      0      0   315154   8.6625   NaN        S  \n",
       "4  22.0      1      1  3101298  12.2875   NaN        S  "
      ]
     },
     "execution_count": 60,
     "metadata": {},
     "output_type": "execute_result"
    }
   ],
   "source": [
    "test_data.head()"
   ]
  },
  {
   "cell_type": "markdown",
   "metadata": {},
   "source": [
    "# **2. Data Exploration**\n",
    "Before we start fitting models to the data, we want to understand it a bit better. This will help with debugging problems later and will also allow more bespoke models to be implemented. The easiest way to get to know the dataset that is in front of us is to play around with it."
   ]
  },
  {
   "cell_type": "markdown",
   "metadata": {},
   "source": [
    "# 2.1. Features and Missing Data\n",
    "Now we want to have a look at the data and understand the information we have been given. A good way to do this is to find out how much data we have and where there is missing data (e.g. NaNs). This will help later on when we decide how to handle the missing data.\n",
    "\n",
    "Let's start by seeing how many rows of data we have and also the features that are provided. We can then also check whether there are any NaNs in the dataframe and which features contain them."
   ]
  },
  {
   "cell_type": "code",
   "execution_count": 61,
   "metadata": {},
   "outputs": [
    {
     "name": "stdout",
     "output_type": "stream",
     "text": [
      "# of training Rows =  891\n",
      "# of testing Rows =  418\n",
      "\n",
      "Train Features =  ['PassengerId' 'Survived' 'Pclass' 'Name' 'Sex' 'Age' 'SibSp' 'Parch'\n",
      " 'Ticket' 'Fare' 'Cabin' 'Embarked']\n",
      "Test Features =  ['PassengerId' 'Pclass' 'Name' 'Sex' 'Age' 'SibSp' 'Parch' 'Ticket' 'Fare'\n",
      " 'Cabin' 'Embarked']\n",
      "\n",
      "NaNs in each training Feature\n",
      "PassengerId      0\n",
      "Survived         0\n",
      "Pclass           0\n",
      "Name             0\n",
      "Sex              0\n",
      "Age            177\n",
      "SibSp            0\n",
      "Parch            0\n",
      "Ticket           0\n",
      "Fare             0\n",
      "Cabin          687\n",
      "Embarked         2\n",
      "dtype: int64\n",
      "\n",
      "NaNs in each testing Feature\n",
      "PassengerId      0\n",
      "Pclass           0\n",
      "Name             0\n",
      "Sex              0\n",
      "Age             86\n",
      "SibSp            0\n",
      "Parch            0\n",
      "Ticket           0\n",
      "Fare             1\n",
      "Cabin          327\n",
      "Embarked         0\n",
      "dtype: int64\n"
     ]
    }
   ],
   "source": [
    "# Print the features that are available in the data\n",
    "print(\"# of training Rows = \", len(train_data))\n",
    "print(\"# of testing Rows = \", len(test_data))\n",
    "print()\n",
    "print(\"Train Features = \", train_data.columns.values)\n",
    "print(\"Test Features = \", test_data.columns.values)\n",
    "print()\n",
    "\n",
    "# Check which, if any, features contain NaNs and how many they contain\n",
    "print(\"NaNs in each training Feature\")\n",
    "print(train_data.isnull().sum())\n",
    "print()\n",
    "print(\"NaNs in each testing Feature\")\n",
    "print(test_data.isnull().sum())"
   ]
  },
  {
   "cell_type": "markdown",
   "metadata": {},
   "source": [
    "The above output tells us that there are 891 rows of data in the training dataframe as well as the features that are provided (columns in the dataframe). The only feature that appears in the training set but not in the test set is *Survival* because this is the output we would like to predict with a model.\n",
    "\n",
    "We can also see that the training features: *Age*, *Cabin* and *Embarked* contain NaN values. For now this is ok, but it may need to be addressed before fitting models later on. The testing features Age, Cabin and Fare also contain NaN values."
   ]
  },
  {
   "cell_type": "markdown",
   "metadata": {},
   "source": [
    "# 2.2. Feature Distributions\n",
    "\n",
    "Now let's look at the distributions of each feature. We can do this using the .plot() and .hist() pandas methods.\n",
    "\n",
    "Some comments about the distributions:\n",
    "* It is worth noting that everyone on board had a different *Name* and that almost everyone had a different *Ticket*. Therefore, there is no point in visualising these distributions as they will just be uniform with counts of 1. \n",
    "* Furthermore, *passengerID* is simply a number assigned to each passenger and as such, the distribution does not tell us much. \n",
    "* The *Cabin* data is mainly NaNs and so plotting the distribution is not particularly useful."
   ]
  },
  {
   "cell_type": "code",
   "execution_count": 62,
   "metadata": {},
   "outputs": [
    {
     "data": {
      "image/png": "[encoded data removed]",
      "text/plain": [
       "<Figure size 864x864 with 9 Axes>"
      ]
     },
     "metadata": {
      "needs_background": "light"
     },
     "output_type": "display_data"
    },
    {
     "data": {
      "image/png": "[encoded data removed]",
      "text/plain": [
       "<Figure size 432x288 with 1 Axes>"
      ]
     },
     "metadata": {
      "needs_background": "light"
     },
     "output_type": "display_data"
    },
    {
     "data": {
      "image/png": "[encoded data removed]",
      "text/plain": [
       "<Figure size 432x288 with 1 Axes>"
      ]
     },
     "metadata": {
      "needs_background": "light"
     },
     "output_type": "display_data"
    }
   ],
   "source": [
    "# Visualise the numerical values\n",
    "train_data.hist(figsize=(12,12), color='darkblue', bins=25)\n",
    "plt.show()\n",
    "\n",
    "# Visualise the relevent categorical text-based features\n",
    "train_data['Sex'].value_counts().plot(kind='bar', rot=0.0, fontsize=16, color='darkblue', title='Sex')\n",
    "plt.show()\n",
    "train_data['Embarked'].value_counts().plot(kind='bar', rot=0.0, fontsize=16, color='darkblue', title='Embarked')\n",
    "plt.show()"
   ]
  },
  {
   "cell_type": "markdown",
   "metadata": {},
   "source": [
    "From the above distributions we can get a feel for the data set that we are using. \n",
    "\n",
    "For example: \n",
    "   * The most represented *Age* range was between 20 and 40 years old\n",
    "   * We can see that most people paid a *Fare* of under 20 for their tickets.\n",
    "   * Most people on board had no parents or children with them \n",
    "   * Over half of the passengers were in third class\n",
    "   * Most people had no siblings or spouses on board\n",
    "   * Only around 40% of passengers survived (1.0)\n",
    "   * Around two thirds of the passengers were male\n",
    "   * The overwhelming majority of passengers *Embarked* at S\n"
   ]
  },
  {
   "cell_type": "markdown",
   "metadata": {},
   "source": [
    "# 2.3. Feature Correlations\n",
    "\n",
    "Now that we roughly know the distributions of each feature, we can start to see if two features are correlated with each other. Here we will not consider: *Cabin* (too much missing data), *Ticket* (not really categorical or numerical) or *Name* (all individual but covered later).\n",
    "\n",
    "## 2.3.1. Numerical Features\n",
    "By using the .corr() pandas method we can build up an idea of the relationships between each of the numerical features. This is a good sense check as to whether the data is reliable. For example, we would expect a strong correlation between *Fare* and *Class* as 1st class tickets cost more than 3rd class tickets."
   ]
  },
  {
   "cell_type": "code",
   "execution_count": 63,
   "metadata": {},
   "outputs": [
    {
     "data": {
      "text/plain": [
       "<matplotlib.axes._subplots.AxesSubplot at 0x7fee7109ec18>"
      ]
     },
     "execution_count": 63,
     "metadata": {},
     "output_type": "execute_result"
    },
    {
     "data": {
      "image/png": "[encoded data removed]",
      "text/plain": [
       "<Figure size 432x288 with 2 Axes>"
      ]
     },
     "metadata": {
      "needs_background": "light"
     },
     "output_type": "display_data"
    }
   ],
   "source": [
    "# Check the correlations between the non-text variables\n",
    "sns.heatmap(train_data.corr(), annot = True, cmap='viridis')"
   ]
  },
  {
   "cell_type": "markdown",
   "metadata": {},
   "source": [
    "By looking at the above correlation values we can see that there are some reasonable (anti-)correlations.\n",
    "\n",
    "These include:\n",
    "* *Fare* and *Class* (this makes sense because 1st class tickets are more expensive just as we predicted)\n",
    "* *Survival* and *Class* (this could be interesting)\n",
    "* *Survival* and *Fare* (closely related to *Survival* and *Class* correlation)\n",
    "* *Class* and *Age* (this makes sense because older passengers likely have more money and are therefore more likely to have 1st or 2nd class tickets)\n",
    "* *Age* and *Siblings / Spouses aboard*\n",
    "* *Age* and *Parents / Childern aboard*\n",
    "* *Siblings / Spouses aboard* and *Parents / Children aboard*\n",
    "* *Fare* and *Siblings / Spouses aboard*\n",
    "* *Fare* and *Parents / Children aboard*\n",
    "\n",
    "\n",
    "There may also be some correlations between the non-numerical values, so let's check some of these.\n",
    "\n",
    "## 2.3.2. Text-Based Features\n",
    "Let's consider the categorical text-based features *Embarked* and *Sex*.\n",
    "\n",
    "### 2.3.2.1. Embarked"
   ]
  },
  {
   "cell_type": "code",
   "execution_count": 64,
   "metadata": {},
   "outputs": [
    {
     "data": {
      "image/png": "[encoded data removed]",
      "text/plain": [
       "<Figure size 360x360 with 1 Axes>"
      ]
     },
     "metadata": {
      "needs_background": "light"
     },
     "output_type": "display_data"
    },
    {
     "data": {
      "image/png": "[encoded data removed]",
      "text/plain": [
       "<Figure size 360x360 with 1 Axes>"
      ]
     },
     "metadata": {
      "needs_background": "light"
     },
     "output_type": "display_data"
    },
    {
     "data": {
      "image/png": "[encoded data removed]",
      "text/plain": [
       "<Figure size 360x360 with 1 Axes>"
      ]
     },
     "metadata": {
      "needs_background": "light"
     },
     "output_type": "display_data"
    },
    {
     "data": {
      "image/png": "[encoded data removed]",
      "text/plain": [
       "<Figure size 360x360 with 1 Axes>"
      ]
     },
     "metadata": {
      "needs_background": "light"
     },
     "output_type": "display_data"
    },
    {
     "data": {
      "image/png": "[encoded data removed]",
      "text/plain": [
       "<Figure size 360x360 with 1 Axes>"
      ]
     },
     "metadata": {
      "needs_background": "light"
     },
     "output_type": "display_data"
    },
    {
     "data": {
      "image/png": "[encoded data removed]",
      "text/plain": [
       "<Figure size 360x360 with 1 Axes>"
      ]
     },
     "metadata": {
      "needs_background": "light"
     },
     "output_type": "display_data"
    }
   ],
   "source": [
    "# Make a list of the continuous and categorical features to plot\n",
    "continuous_keys = ['Age', 'Fare']\n",
    "categorical_keys = ['Survived', 'Pclass', 'SibSp', 'Parch']\n",
    "\n",
    "# Iterate through each feature and plot\n",
    "for i in continuous_keys:\n",
    "    sns.catplot(x = 'Embarked',y=i, data = train_data)\n",
    "for i in categorical_keys:\n",
    "    sns.catplot(x = 'Embarked',y=i, kind='bar', data = train_data)"
   ]
  },
  {
   "cell_type": "markdown",
   "metadata": {},
   "source": [
    "### 2.3.2.2. Sex"
   ]
  },
  {
   "cell_type": "code",
   "execution_count": 65,
   "metadata": {},
   "outputs": [
    {
     "data": {
      "image/png": "[encoded data removed]",
      "text/plain": [
       "<Figure size 360x360 with 1 Axes>"
      ]
     },
     "metadata": {
      "needs_background": "light"
     },
     "output_type": "display_data"
    },
    {
     "data": {
      "image/png": "[encoded data removed]",
      "text/plain": [
       "<Figure size 360x360 with 1 Axes>"
      ]
     },
     "metadata": {
      "needs_background": "light"
     },
     "output_type": "display_data"
    },
    {
     "data": {
      "image/png": "[encoded data removed]",
      "text/plain": [
       "<Figure size 360x360 with 1 Axes>"
      ]
     },
     "metadata": {
      "needs_background": "light"
     },
     "output_type": "display_data"
    },
    {
     "data": {
      "image/png": "[encoded data removed]",
      "text/plain": [
       "<Figure size 360x360 with 1 Axes>"
      ]
     },
     "metadata": {
      "needs_background": "light"
     },
     "output_type": "display_data"
    },
    {
     "data": {
      "image/png": "[encoded data removed]",
      "text/plain": [
       "<Figure size 360x360 with 1 Axes>"
      ]
     },
     "metadata": {
      "needs_background": "light"
     },
     "output_type": "display_data"
    },
    {
     "data": {
      "image/png": "[encoded data removed]",
      "text/plain": [
       "<Figure size 360x360 with 1 Axes>"
      ]
     },
     "metadata": {
      "needs_background": "light"
     },
     "output_type": "display_data"
    }
   ],
   "source": [
    "# Now repeat the above for the Sex feature\n",
    "for i in continuous_keys:\n",
    "    sns.catplot(x = 'Sex',y=i, data = train_data)\n",
    "for i in categorical_keys:\n",
    "    sns.catplot(x = 'Sex',y=i, kind='bar', data = train_data)"
   ]
  },
  {
   "cell_type": "code",
   "execution_count": 66,
   "metadata": {},
   "outputs": [
    {
     "data": {
      "text/plain": [
       "<matplotlib.axes._subplots.AxesSubplot at 0x7fee701207f0>"
      ]
     },
     "execution_count": 66,
     "metadata": {},
     "output_type": "execute_result"
    },
    {
     "data": {
      "image/png": "[encoded data removed]",
      "text/plain": [
       "<Figure size 432x288 with 1 Axes>"
      ]
     },
     "metadata": {
      "needs_background": "light"
     },
     "output_type": "display_data"
    }
   ],
   "source": [
    "# Just to check Embarked against Sex\n",
    "sns.countplot(x = 'Embarked', data = train_data, hue = 'Sex', color = 'blue')"
   ]
  },
  {
   "cell_type": "markdown",
   "metadata": {},
   "source": [
    "Now these plots above give us some more information about the *Sex* and *Embarked* features. This could be useful later in our analysis.\n",
    "\n",
    "# 3. Feature Engineering\n",
    "Now that we understand a bit about our dataset, we can start getting ready to apply some models to it. In order to this, we should try to make the features more \"model friendly\". This includes filling in values that are missing and removing some data.\n",
    "\n",
    "\n"
   ]
  },
  {
   "cell_type": "markdown",
   "metadata": {},
   "source": [
    "# 3.1. Removing Unfillable Values\n",
    "As there are so many missing values for the *Cabin* feature, we should just remove this feature altogether. It would be extremely difficult to fill these values in and there would likely be a lot of errors introduced. We will also drop the *Ticket* feature.\n",
    "\n",
    "\n"
   ]
  },
  {
   "cell_type": "code",
   "execution_count": 67,
   "metadata": {},
   "outputs": [],
   "source": [
    "# Drop the Cabin feature from the dataset\n",
    "train_data.drop(columns='Cabin', inplace=True)\n",
    "\n",
    "# Drop Ticket feature\n",
    "train_data.drop(columns='Ticket', inplace=True)"
   ]
  },
  {
   "cell_type": "markdown",
   "metadata": {},
   "source": [
    "Let's also define a function for removing outliers that will be used later on. I have based this outlier code on some of the code in: https://www.kaggle.com/yassineghouzam/titanic-top-4-with-ensemble-modeling"
   ]
  },
  {
   "cell_type": "code",
   "execution_count": 68,
   "metadata": {},
   "outputs": [],
   "source": [
    "from collections import Counter\n",
    "\n",
    "def detect_outliers(df,n,features):\n",
    "\n",
    "    outlier_indices = []\n",
    "    for col in features:\n",
    "        Q1 = np.percentile(df[col], 25) # 1st quartile (25%)\n",
    "        Q3 = np.percentile(df[col],75) # 3rd quartile (75%)\n",
    "        IQR = Q3 - Q1 # Interquartile range (IQR)\n",
    "        outlier_step = 1.5 * IQR # outlier step\n",
    "        \n",
    "        # Determine a list of indices of outliers for feature col\n",
    "        outlier_list_col = df[(df[col] < Q1 - outlier_step) | (df[col] > Q3 + outlier_step )].index\n",
    "        \n",
    "        # append the found outlier indices for col to the list of outlier indices \n",
    "        outlier_indices.extend(outlier_list_col)\n",
    "        \n",
    "    # select observations containing more than 2 outliers\n",
    "    outlier_indices = Counter(outlier_indices)        \n",
    "    multiple_outliers = list( k for k, v in outlier_indices.items() if v > n )\n",
    "    \n",
    "    return multiple_outliers   "
   ]
  },
  {
   "cell_type": "markdown",
   "metadata": {},
   "source": [
    "# 3.2. Filling in Missing Values\n",
    "**3.2.1. Embarked**\n",
    "\n",
    "We first need to fill in the 2 missing *Embarked* values. As the overwhelming majority of people embarked at \"S\" we are going to assume that these two missing values are \"S\". We can fill these in as shown below."
   ]
  },
  {
   "cell_type": "code",
   "execution_count": 69,
   "metadata": {},
   "outputs": [],
   "source": [
    "# Fill in the missing Embarked information\n",
    "train_data['Embarked'].fillna('S', inplace=True)"
   ]
  },
  {
   "cell_type": "markdown",
   "metadata": {},
   "source": [
    "**3.2.2. Using the Mean for Age**\n",
    "\n",
    "Let's calculate the mean of the *Age* feature and use this to fill in the missing values. As *Age* is strongly correlated with *Pclass*, let's use *Pclass* in order to fill the *Age* values."
   ]
  },
  {
   "cell_type": "code",
   "execution_count": 70,
   "metadata": {},
   "outputs": [
    {
     "name": "stdout",
     "output_type": "stream",
     "text": [
      "Pclass\n",
      "1    38.233441\n",
      "2    29.877630\n",
      "3    25.140620\n",
      "Name: Age, dtype: float64\n"
     ]
    }
   ],
   "source": [
    "# Calculate the mean of the Age feature\n",
    "meanAges = train_data.groupby(['Pclass'])['Age'].mean()\n",
    "print(meanAges)"
   ]
  },
  {
   "cell_type": "markdown",
   "metadata": {},
   "source": [
    "Now we just have to fill in the missing *Age* values"
   ]
  },
  {
   "cell_type": "code",
   "execution_count": 71,
   "metadata": {},
   "outputs": [
    {
     "name": "stdout",
     "output_type": "stream",
     "text": [
      "PassengerId    0\n",
      "Survived       0\n",
      "Pclass         0\n",
      "Name           0\n",
      "Sex            0\n",
      "Age            0\n",
      "SibSp          0\n",
      "Parch          0\n",
      "Fare           0\n",
      "Embarked       0\n",
      "dtype: int64\n"
     ]
    },
    {
     "data": {
      "text/plain": [
       "Text(0.5, 0, 'Age')"
      ]
     },
     "execution_count": 71,
     "metadata": {},
     "output_type": "execute_result"
    },
    {
     "data": {
      "image/png": "[encoded data removed]",
      "text/plain": [
       "<Figure size 432x288 with 1 Axes>"
      ]
     },
     "metadata": {
      "needs_background": "light"
     },
     "output_type": "display_data"
    }
   ],
   "source": [
    "# Fill in the missing age values\n",
    "for i in range(3):\n",
    "    train_data.loc[train_data['Pclass']==int(i+1), 'Age'] = train_data.loc[train_data['Pclass']==int(i+1), 'Age'].fillna(meanAges.values[i])\n",
    "\n",
    "# Check everything has been filled as expected\n",
    "print(train_data.isnull().sum())\n",
    "\n",
    "# And plot to check the values have been filled as expected\n",
    "plt.figure()\n",
    "plt.hist(train_data['Age'].values, bins=20, color=\"orange\", ec='black', label=\"New Total Age Dist\", density=True)\n",
    "plt.xlabel(\"Age\")"
   ]
  },
  {
   "cell_type": "markdown",
   "metadata": {},
   "source": [
    "# 3.3. Expanding Existing Features\n",
    "Here we will try to adjust some of the features to provide better insights into the situation and improve the model."
   ]
  },
  {
   "cell_type": "markdown",
   "metadata": {},
   "source": [
    "**3.3.1. Gender Feature**\n",
    "\n",
    "First let's expand this feature to include children as well."
   ]
  },
  {
   "cell_type": "code",
   "execution_count": 72,
   "metadata": {},
   "outputs": [
    {
     "name": "stdout",
     "output_type": "stream",
     "text": [
      "   PassengerId  Survived  Pclass  \\\n",
      "0            1         0       3   \n",
      "1            2         1       1   \n",
      "2            3         1       3   \n",
      "3            4         1       1   \n",
      "4            5         0       3   \n",
      "5            6         0       3   \n",
      "6            7         0       1   \n",
      "7            8         0       3   \n",
      "\n",
      "                                                Name       Age  SibSp  Parch  \\\n",
      "0                            Braund, Mr. Owen Harris  22.00000      1      0   \n",
      "1  Cumings, Mrs. John Bradley (Florence Briggs Th...  38.00000      1      0   \n",
      "2                             Heikkinen, Miss. Laina  26.00000      0      0   \n",
      "3       Futrelle, Mrs. Jacques Heath (Lily May Peel)  35.00000      1      0   \n",
      "4                           Allen, Mr. William Henry  35.00000      0      0   \n",
      "5                                   Moran, Mr. James  25.14062      0      0   \n",
      "6                            McCarthy, Mr. Timothy J  54.00000      0      0   \n",
      "7                     Palsson, Master. Gosta Leonard   2.00000      3      1   \n",
      "\n",
      "      Fare Embarked newGender  \n",
      "0   7.2500        S      male  \n",
      "1  71.2833        C    female  \n",
      "2   7.9250        S    female  \n",
      "3  53.1000        S    female  \n",
      "4   8.0500        S      male  \n",
      "5   8.4583        Q      male  \n",
      "6  51.8625        S      male  \n",
      "7  21.0750        S     child  \n"
     ]
    }
   ],
   "source": [
    "# Create a new column in the data frame\n",
    "train_data['newGender'] = train_data['Sex']\n",
    "\n",
    "# Find all the children\n",
    "train_data.loc[train_data['Age']<16., 'newGender'] = 'child'\n",
    "\n",
    "# Drop the Sex feature as it is not needed anymore\n",
    "train_data.drop(columns='Sex', inplace=True)\n",
    "\n",
    "print(train_data.head(8))"
   ]
  },
  {
   "cell_type": "markdown",
   "metadata": {},
   "source": [
    "**3.3.2. Name Feature**\n",
    "\n",
    "Now let's get the title of the each person and feed this into the model. Some of this code was from: https://www.kaggle.com/konstantinmasich/titanic-0-82-0-83"
   ]
  },
  {
   "cell_type": "code",
   "execution_count": 73,
   "metadata": {},
   "outputs": [],
   "source": [
    "train_data['Title'] = train_data['Name']\n",
    "\n",
    "# Extracting Title\n",
    "for name_string in train_data['Name']:\n",
    "    train_data['Title'] = train_data['Name'].str.extract('([A-Za-z]+)\\.', expand=True)\n",
    "\n",
    "# Replacing some titles using a mapping\n",
    "mapping = {'Mlle': 'Miss', 'Major': 'Rare', 'Col': 'Rare', 'Sir': 'Rare', 'Don': 'Rare', 'Mme': 'Miss',\n",
    "          'Jonkheer': 'Rare', 'Lady': 'Rare', 'Capt': 'Rare', 'Countess': 'Rare', 'Ms': 'Miss', 'Dona': 'Mrs', 'Rev': 'Rare'}\n",
    "train_data.replace({'Title': mapping}, inplace=True)\n",
    "\n",
    "# Remove the Name column\n",
    "train_data.drop(columns='Name', inplace=True)"
   ]
  },
  {
   "cell_type": "markdown",
   "metadata": {},
   "source": [
    "**3.3.3. Family Size Feature**\n",
    "\n",
    "Now let's work out the size of families on board"
   ]
  },
  {
   "cell_type": "code",
   "execution_count": 74,
   "metadata": {},
   "outputs": [
    {
     "name": "stdout",
     "output_type": "stream",
     "text": [
      "   PassengerId  Survived  Pclass       Age  SibSp  Parch     Fare Embarked  \\\n",
      "0            1         0       3  22.00000      1      0   7.2500        S   \n",
      "1            2         1       1  38.00000      1      0  71.2833        C   \n",
      "2            3         1       3  26.00000      0      0   7.9250        S   \n",
      "3            4         1       1  35.00000      1      0  53.1000        S   \n",
      "4            5         0       3  35.00000      0      0   8.0500        S   \n",
      "5            6         0       3  25.14062      0      0   8.4583        Q   \n",
      "6            7         0       1  54.00000      0      0  51.8625        S   \n",
      "7            8         0       3   2.00000      3      1  21.0750        S   \n",
      "\n",
      "  newGender   Title  familyNumber  \n",
      "0      male      Mr             1  \n",
      "1    female     Mrs             1  \n",
      "2    female    Miss             0  \n",
      "3    female     Mrs             1  \n",
      "4      male      Mr             0  \n",
      "5      male      Mr             0  \n",
      "6      male      Mr             0  \n",
      "7     child  Master             4  \n"
     ]
    }
   ],
   "source": [
    "# Calculate the number if members in the family (excluding the individual)\n",
    "train_data['familyNumber'] = train_data['SibSp'] + train_data['Parch']\n",
    "print(train_data.head(8))\n",
    "\n",
    "# Detect outliers from Age, familyNumber and Fare\n",
    "Outliers_to_drop = detect_outliers(train_data,1,[\"Age\",\"familyNumber\",\"Fare\"])\n",
    "train_data = train_data.drop(Outliers_to_drop, axis = 0).reset_index(drop=True)\n",
    "\n",
    "# Create the familySize feature\n",
    "train_data['familySize'] = np.nan\n",
    "\n",
    "# Fill it with text-based categorical data\n",
    "train_data.loc[train_data['familyNumber']==0, 'familySize'] = 'alone'\n",
    "train_data.loc[train_data['familyNumber']==1, 'familySize'] = 'couple'\n",
    "train_data.loc[train_data['familyNumber']==2, 'familySize'] = 'small'\n",
    "train_data.loc[train_data['familyNumber']==3, 'familySize'] = 'medium'\n",
    "train_data.loc[train_data['familyNumber']>=4, 'familySize'] = 'large'\n",
    "\n",
    "# Drop the columns that are no longer needed\n",
    "train_data.drop(columns=['familyNumber', 'SibSp', 'Parch'], inplace=True)"
   ]
  },
  {
   "cell_type": "markdown",
   "metadata": {},
   "source": [
    "# 3.4. Handling Categorical Text Data\n",
    "It is important to convert text labels into something more understandable for the model. To do this with category based text data we can use one hot encoding as below."
   ]
  },
  {
   "cell_type": "code",
   "execution_count": 75,
   "metadata": {},
   "outputs": [
    {
     "name": "stdout",
     "output_type": "stream",
     "text": [
      "   PassengerId  Survived   Age     Fare  newGender_female  newGender_male  \\\n",
      "0            1         0  22.0   7.2500                 0               1   \n",
      "1            2         1  38.0  71.2833                 1               0   \n",
      "\n",
      "   Embarked_Q  Embarked_S  Title_Master  Title_Miss  Title_Mr  Title_Mrs  \\\n",
      "0           0           1             0           0         1          0   \n",
      "1           0           0             0           0         0          1   \n",
      "\n",
      "   Title_Rare  familySize_couple  familySize_large  familySize_medium  \\\n",
      "0           0                  1                 0                  0   \n",
      "1           0                  1                 0                  0   \n",
      "\n",
      "   familySize_small  newPclass_second  newPclass_third  \n",
      "0                 0                 0                1  \n",
      "1                 0                 0                0  \n",
      "['PassengerId' 'Survived' 'Age' 'Fare' 'newGender_female' 'newGender_male'\n",
      " 'Embarked_Q' 'Embarked_S' 'Title_Master' 'Title_Miss' 'Title_Mr'\n",
      " 'Title_Mrs' 'Title_Rare' 'familySize_couple' 'familySize_large'\n",
      " 'familySize_medium' 'familySize_small' 'newPclass_second'\n",
      " 'newPclass_third']\n"
     ]
    }
   ],
   "source": [
    "# Turn Pclass into a text-based categorical features\n",
    "train_data['newPclass'] = np.nan\n",
    "train_data.loc[train_data['Pclass']==1, 'newPclass'] = 'first'\n",
    "train_data.loc[train_data['Pclass']==2, 'newPclass'] = 'second'\n",
    "train_data.loc[train_data['Pclass']==3, 'newPclass'] = 'third'\n",
    "train_data.drop(columns='Pclass', inplace=True)\n",
    "\n",
    "# Specify which columns to one hot encode\n",
    "columns = ['newGender', 'Embarked', 'Title', 'familySize', 'newPclass']\n",
    "\n",
    "# Do the encoding for the two dataframes we are comapring\n",
    "one_hot = pd.get_dummies(train_data.loc[:, columns], drop_first=True)\n",
    "train_data.drop(columns=columns, inplace=True)\n",
    "train_data = train_data.join(one_hot)\n",
    "\n",
    "# Print the output to check it has done what we wanted\n",
    "print(train_data.head(2))\n",
    "print(train_data.columns.values)"
   ]
  },
  {
   "cell_type": "markdown",
   "metadata": {},
   "source": [
    "# 4. Fitting Models\n",
    "\n",
    "As the aim of this task is to predict whether passengers survived or not, it is a classification task. For this we can used a variety of classification models to predict the outcome. It is also worth noting that the success of this task is determined by the accuracy (the percentage of passenger outcomes successfully predicted). \n"
   ]
  },
  {
   "cell_type": "markdown",
   "metadata": {},
   "source": [
    "**4.1. Importing**"
   ]
  },
  {
   "cell_type": "code",
   "execution_count": 76,
   "metadata": {},
   "outputs": [],
   "source": [
    "# Import some required modules for the fitting\n",
    "from sklearn.ensemble import RandomForestClassifier\n",
    "from sklearn.model_selection import train_test_split\n",
    "from sklearn.metrics import classification_report, confusion_matrix\n",
    "from sklearn.model_selection import GridSearchCV\n",
    "from sklearn.preprocessing import StandardScaler\n",
    "from sklearn.neighbors import KNeighborsClassifier"
   ]
  },
  {
   "cell_type": "markdown",
   "metadata": {},
   "source": [
    "**4.2. k-Nearest Neighbours**\n",
    "\n",
    "One model that we can fit to classify our data is called k-NN. We can fit it and check that accuracy as shown below.\n",
    "\n",
    "For k-NN, the features must be scaled first. This is not necessary for RF though."
   ]
  },
  {
   "cell_type": "code",
   "execution_count": 77,
   "metadata": {},
   "outputs": [],
   "source": [
    "# Fit the scaler on all the training data\n",
    "trainScaler = StandardScaler()\n",
    "trainScaler.fit(train_data.drop(['Survived', 'PassengerId'], axis = 1))\n",
    "\n",
    "# Scale data\n",
    "X_train_scaled = trainScaler.transform(train_data.drop(['Survived', 'PassengerId'], axis = 1))\n",
    "\n",
    "# Split the training data into X and y data\n",
    "X_train = train_data.drop(['Survived', 'PassengerId'], axis = 1)\n",
    "y_train = train_data['Survived']"
   ]
  },
  {
   "cell_type": "code",
   "execution_count": 78,
   "metadata": {},
   "outputs": [
    {
     "name": "stdout",
     "output_type": "stream",
     "text": [
      "0.8302415737536846\n"
     ]
    },
    {
     "data": {
      "text/plain": [
       "KNeighborsClassifier(algorithm='auto', leaf_size=30, metric='manhattan',\n",
       "                     metric_params=None, n_jobs=None, n_neighbors=13, p=2,\n",
       "                     weights='uniform')"
      ]
     },
     "execution_count": 78,
     "metadata": {},
     "output_type": "execute_result"
    }
   ],
   "source": [
    "# Try to improve the KNN results with hyperparameter tuning with grid search\n",
    "grid_params = {\n",
    "    'n_neighbors': [3, 5, 7, 9, 11, 13],\n",
    "    'weights': ['uniform', 'distance'],\n",
    "    'metric':['euclidean', 'manhattan']\n",
    "                }\n",
    "KNN_CV = GridSearchCV(estimator = KNeighborsClassifier(), param_grid=grid_params, cv = 3)\n",
    "KNN_CV.fit(X_train_scaled, y_train)\n",
    "\n",
    "# Print the best score\n",
    "print(KNN_CV.best_score_)\n",
    "\n",
    "# Get the parameters from the best fit\n",
    "weights = KNN_CV.best_params_.get('weights')\n",
    "n = KNN_CV.best_params_.get('n_neighbors')\n",
    "metric = KNN_CV.best_params_.get('metric')\n",
    "\n",
    "# Train the classifier on all the data for predicting the test data (use best hyperparams)\n",
    "bestKNN = KNeighborsClassifier(n_neighbors=n, weights=weights, metric=metric)\n",
    "bestKNN.fit(X_train_scaled, y_train)"
   ]
  },
  {
   "cell_type": "markdown",
   "metadata": {},
   "source": [
    "**4.3. Random Forest**\n",
    "\n",
    "Now let's fit a Random Forest Model to the data."
   ]
  },
  {
   "cell_type": "code",
   "execution_count": 79,
   "metadata": {},
   "outputs": [
    {
     "name": "stdout",
     "output_type": "stream",
     "text": [
      "0.8314029860310136\n"
     ]
    },
    {
     "data": {
      "text/plain": [
       "RandomForestClassifier(bootstrap=True, ccp_alpha=0.0, class_weight=None,\n",
       "                       criterion='gini', max_depth=7, max_features='log2',\n",
       "                       max_leaf_nodes=None, max_samples=None,\n",
       "                       min_impurity_decrease=0.0, min_impurity_split=None,\n",
       "                       min_samples_leaf=1, min_samples_split=2,\n",
       "                       min_weight_fraction_leaf=0.0, n_estimators=1000,\n",
       "                       n_jobs=None, oob_score=False, random_state=None,\n",
       "                       verbose=0, warm_start=False)"
      ]
     },
     "execution_count": 79,
     "metadata": {},
     "output_type": "execute_result"
    }
   ],
   "source": [
    "# Search for the optimal hyperparameters for RF\n",
    "param_grid = { \n",
    "    'criterion' : ['gini'],\n",
    "    'n_estimators': [70, 80, 90, 100],\n",
    "    'max_features': ['auto', 'log2'],\n",
    "    'max_depth' : [5, 7, 9, 11]    \n",
    "                }\n",
    "randomForest_CV = GridSearchCV(estimator = RandomForestClassifier(), param_grid = param_grid, cv = 3)\n",
    "randomForest_CV.fit(X_train, y_train)\n",
    "#print(randomForest_CV.best_params_)\n",
    "\n",
    "# Print the best score\n",
    "print(randomForest_CV.best_score_)\n",
    "\n",
    "# Get the parameters from the best fit\n",
    "criterion = randomForest_CV.best_params_.get('criterion')\n",
    "nRF = randomForest_CV.best_params_.get('n_estimators')\n",
    "max_features = randomForest_CV.best_params_.get('max_features')\n",
    "max_depth = randomForest_CV.best_params_.get('max_depth')\n",
    "\n",
    "# Train the classifier on all the data for predicting the test data (use best hyperparams)\n",
    "bestRF = RandomForestClassifier(n_estimators=1000, max_depth=max_depth, max_features=max_features, criterion=criterion)\n",
    "bestRF.fit(X_train, y_train)"
   ]
  },
  {
   "cell_type": "markdown",
   "metadata": {},
   "source": [
    "Both the RF and k-NN models give us over **83% accuracy** on the training data. Now we can use the best parameters to fit the models and predict the test data outcomes.\n"
   ]
  },
  {
   "cell_type": "markdown",
   "metadata": {},
   "source": [
    "# 5. Generating a Submission File\n",
    "Now we just need to generate a submission file for the competition using our trained model. This can be done as outlined below (Note that we could have done all of the processing of the test data with the training data earlier on but have kept it separate for clarity here).\n",
    "\n",
    "**5.1 Fill the missing Values** "
   ]
  },
  {
   "cell_type": "code",
   "execution_count": 80,
   "metadata": {},
   "outputs": [],
   "source": [
    "# Fill the missing Age values in the test data set with the averages found from the training data\n",
    "for i in range(3):\n",
    "    test_data.loc[test_data['Pclass']==int(i+1), 'Age'] = test_data.loc[test_data['Pclass']==int(i+1), 'Age'].fillna(meanAges.values[i])\n",
    "\n",
    "# Fill the missing Fare values in the test data set\n",
    "meanFare = test_data['Fare'].median()\n",
    "test_data['Fare'].fillna(meanFare, inplace=True)"
   ]
  },
  {
   "cell_type": "markdown",
   "metadata": {},
   "source": [
    "**5.2 Expand some of the Test Features**"
   ]
  },
  {
   "cell_type": "code",
   "execution_count": 81,
   "metadata": {},
   "outputs": [],
   "source": [
    "# Expand the gender feature in the test set\n",
    "test_data['newGender'] = test_data['Sex']\n",
    "test_data.loc[test_data['Age']<18., 'newGender'] = 'child'\n",
    "test_data.drop(columns='Sex', inplace=True)\n",
    "\n",
    "# Get the titles for the test set\n",
    "test_data['Title'] = test_data['Name']\n",
    "for name_string in test_data['Name']:\n",
    "    test_data['Title'] = test_data['Name'].str.extract('([A-Za-z]+)\\.', expand=True)\n",
    "mapping = {'Mlle': 'Miss', 'Major': 'Rare', 'Col': 'Rare', 'Sir': 'Rare', 'Don': 'Rare', 'Mme': 'Miss',\n",
    "          'Jonkheer': 'Rare', 'Lady': 'Rare', 'Capt': 'Rare', 'Countess': 'Rare', 'Ms': 'Miss', 'Dona': 'Mrs', 'Rev': 'Rare'}\n",
    "test_data.replace({'Title': mapping}, inplace=True)\n",
    "test_data.drop(columns='Name', inplace=True)\n",
    "\n",
    "# Expand the family feature\n",
    "test_data['familyNumber'] = test_data['SibSp'] + test_data['Parch']\n",
    "test_data['familySize'] = np.nan\n",
    "test_data.loc[test_data['familyNumber']==0, 'familySize'] = 'alone'\n",
    "test_data.loc[test_data['familyNumber']==1, 'familySize'] = 'couple'\n",
    "test_data.loc[test_data['familyNumber']==2, 'familySize'] = 'small'\n",
    "test_data.loc[test_data['familyNumber']==3, 'familySize'] = 'medium'\n",
    "test_data.loc[test_data['familyNumber']>=4, 'familySize'] = 'large'\n",
    "test_data.drop(columns=['familyNumber', 'SibSp', 'Parch'], inplace=True)\n",
    "\n",
    "# Create the new Pclass feature\n",
    "test_data['newPclass'] = np.nan\n",
    "test_data.loc[test_data['Pclass']==1, 'newPclass'] = 'first'\n",
    "test_data.loc[test_data['Pclass']==2, 'newPclass'] = 'second'\n",
    "test_data.loc[test_data['Pclass']==3, 'newPclass'] = 'third'\n",
    "test_data.drop(columns='Pclass', inplace=True)"
   ]
  },
  {
   "cell_type": "code",
   "execution_count": 82,
   "metadata": {},
   "outputs": [
    {
     "name": "stdout",
     "output_type": "stream",
     "text": [
      "NaNs in each testing Feature\n",
      "PassengerId          0\n",
      "Age                  0\n",
      "Fare                 0\n",
      "newGender_female     0\n",
      "newGender_male       0\n",
      "Embarked_Q           0\n",
      "Embarked_S           0\n",
      "Title_Master         0\n",
      "Title_Miss           0\n",
      "Title_Mr             0\n",
      "Title_Mrs            0\n",
      "Title_Rare           0\n",
      "familySize_couple    0\n",
      "familySize_large     0\n",
      "familySize_medium    0\n",
      "familySize_small     0\n",
      "newPclass_second     0\n",
      "newPclass_third      0\n",
      "dtype: int64\n"
     ]
    }
   ],
   "source": [
    "# Drop the features that we have not trained on\n",
    "test_data.drop(columns=['Cabin', 'Ticket'], inplace=True)\n",
    "\n",
    "# One hot encode the test data features\n",
    "one_hot = pd.get_dummies(test_data.loc[:, columns], drop_first=True)\n",
    "test_data.drop(columns=columns, inplace=True)\n",
    "test_data = test_data.join(one_hot)\n",
    "\n",
    "# Check all the NaNs have been dealt with\n",
    "print(\"NaNs in each testing Feature\")\n",
    "print(test_data.isnull().sum())"
   ]
  },
  {
   "cell_type": "markdown",
   "metadata": {},
   "source": [
    "**5.3. Predictions!**"
   ]
  },
  {
   "cell_type": "code",
   "execution_count": 83,
   "metadata": {},
   "outputs": [],
   "source": [
    "# Scale the test data\n",
    "scaler = StandardScaler()\n",
    "scaler.fit(test_data.drop(['PassengerId'], axis = 1))\n",
    "X_test_scaled = scaler.transform(test_data.drop(['PassengerId'], axis = 1))\n",
    "X_test = test_data.drop(columns='PassengerId')\n",
    "\n",
    "# Use the models to predict the output of the test data\n",
    "testPredictionsKNN = bestKNN.predict(X_test_scaled)\n",
    "testPredictionsRF = bestRF.predict(X_test)\n",
    "\n",
    "# Save the outputs to csv files\n",
    "outputKNN = pd.DataFrame({'PassengerId': test_data.PassengerId, 'Survived': testPredictionsKNN})\n",
    "outputKNN.to_csv('my_submissionKNN.csv', index=False)\n",
    "outputRF = pd.DataFrame({'PassengerId': test_data.PassengerId, 'Survived': testPredictionsRF})\n",
    "outputRF.to_csv('my_submissionRF.csv', index=False)"
   ]
  },
  {
   "cell_type": "markdown",
   "metadata": {},
   "source": [
    "Now all we have to do is submit the outputs to the competition. The Random Forest Model gives a higher test score than the k-NN model. **If you've got this far, please give my notebook an upvote! It really helps!**\n",
    "\n",
    "## Just trying some other models here quickly..."
   ]
  },
  {
   "cell_type": "code",
   "execution_count": 84,
   "metadata": {},
   "outputs": [
    {
     "name": "stdout",
     "output_type": "stream",
     "text": [
      "0.8406262014609766\n"
     ]
    }
   ],
   "source": [
    "from sklearn.ensemble import GradientBoostingClassifier\n",
    "\n",
    "\n",
    "param_grid = { \n",
    "    'learning_rate' : [0.1, 0.2],\n",
    "    'n_estimators': [90, 100, 110],\n",
    "    'loss': ['deviance', 'exponential']    \n",
    "                }\n",
    "gradBoost_CV = GridSearchCV(estimator = GradientBoostingClassifier(), param_grid = param_grid, cv = 3)\n",
    "gradBoost_CV.fit(X_train, y_train)\n",
    "#print(randomForest_CV.best_params_)\n",
    "\n",
    "# Print the best score\n",
    "print(gradBoost_CV.best_score_)\n",
    "\n",
    "# Get the parameters from the best fit\n",
    "learning = gradBoost_CV.best_params_.get('learning_rate')\n",
    "nGB = gradBoost_CV.best_params_.get('n_estimators')\n",
    "loss = gradBoost_CV.best_params_.get('loss')\n",
    "\n",
    "# Train the classifier on all the data for predicting the test data (use best hyperparams)\n",
    "bestGB = GradientBoostingClassifier(learning_rate=learning, n_estimators=nGB, loss=loss)\n",
    "bestGB.fit(X_train, y_train)\n",
    "\n",
    "testPredictionsGB = bestGB.predict(X_test)\n",
    "\n",
    "outputGB = pd.DataFrame({'PassengerId': test_data.PassengerId, 'Survived': testPredictionsGB})\n",
    "outputGB.to_csv('my_submissionGB.csv', index=False)"
   ]
  },
  {
   "cell_type": "code",
   "execution_count": 85,
   "metadata": {},
   "outputs": [
    {
     "name": "stdout",
     "output_type": "stream",
     "text": [
      "0.8337338203255159\n",
      "XGBClassifier(base_score=None, booster=None, colsample_bylevel=None,\n",
      "              colsample_bynode=None, colsample_bytree=None, gamma=None,\n",
      "              gpu_id=None, importance_type='gain', interaction_constraints=None,\n",
      "              learning_rate=0.1, max_delta_step=None, max_depth=5,\n",
      "              min_child_weight=None, missing=nan, monotone_constraints=None,\n",
      "              n_estimators=100, n_jobs=None, num_parallel_tree=None,\n",
      "              objective='binary:logistic', random_state=None, reg_alpha=None,\n",
      "              reg_lambda=None, scale_pos_weight=None, subsample=None,\n",
      "              tree_method=None, validate_parameters=False, verbosity=None)\n"
     ]
    }
   ],
   "source": [
    "from xgboost import XGBClassifier\n",
    "\n",
    "param_grid = { \n",
    "    'learning_rate' : [0.1, 0.2],\n",
    "    'max_depth': [3, 5, 7],   \n",
    "                }\n",
    "xgBoost_CV = GridSearchCV(estimator = XGBClassifier(), param_grid = param_grid, cv = 3)\n",
    "xgBoost_CV.fit(X_train, y_train)\n",
    "#print(randomForest_CV.best_params_)\n",
    "\n",
    "# Print the best score\n",
    "print(xgBoost_CV.best_score_)\n",
    "\n",
    "\n",
    "# Get the parameters from the best fit\n",
    "learning = xgBoost_CV.best_params_.get('learning_rate')\n",
    "depth = xgBoost_CV.best_params_.get('max_depth')\n",
    "\n",
    "\n",
    "# Train the classifier on all the data for predicting the test data (use best hyperparams)\n",
    "bestXGB = XGBClassifier(learning_rate=learning, max_depth=depth)\n",
    "print(bestXGB)\n",
    "bestXGB.fit(X_train, y_train)\n",
    "\n",
    "testPredictionsXGB = bestXGB.predict(X_test)\n",
    "\n",
    "outputGB = pd.DataFrame({'PassengerId': test_data.PassengerId, 'Survived': testPredictionsXGB})\n",
    "outputGB.to_csv('my_submissionXGB.csv', index=False)"
   ]
  },
  {
   "cell_type": "code",
   "execution_count": null,
   "metadata": {},
   "outputs": [],
   "source": []
  }
 ],
 "metadata": {
  "kernelspec": {
   "display_name": "Python 3",
   "language": "python",
   "name": "python3"
  },
  "language_info": {
   "codemirror_mode": {
    "name": "ipython",
    "version": 3
   },
   "file_extension": ".py",
   "mimetype": "text/x-python",
   "name": "python",
   "nbconvert_exporter": "python",
   "pygments_lexer": "ipython3",
   "version": "3.7.4"
  }
 },
 "nbformat": 4,
 "nbformat_minor": 4
}
